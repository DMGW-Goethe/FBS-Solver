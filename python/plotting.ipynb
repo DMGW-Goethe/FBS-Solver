{
 "cells": [
  {
   "cell_type": "code",
   "execution_count": null,
   "metadata": {},
   "outputs": [],
   "source": [
    "import load_data\n",
    "import plotting_functions as pfuncts\n",
    "import stability_curve_calc as scc\n",
    "import numpy as np\n",
    "import matplotlib.pyplot as plt\n",
    "\n",
    "import importlib\n",
    "importlib.reload(pfuncts)\n",
    "importlib.reload(scc)\n",
    "\n",
    "from matplotlib import rcParams\n",
    "from matplotlib import rcParamsDefault\n",
    "from matplotlib import rc\n",
    "\n",
    "rcParams.update(rcParamsDefault)\n",
    "\n",
    "#rc('font', **{'family': 'CMU Sans Serif'})\n",
    "#rc('font', **{'family': 'CMU Serif'})\n",
    "rcParams[\"mathtext.fontset\"] = \"cm\""
   ]
  },
  {
   "cell_type": "code",
   "execution_count": null,
   "metadata": {},
   "outputs": [],
   "source": [
    "importlib.reload(scc)\n",
    "importlib.reload(pfuncts)\n",
    "\n",
    "data_dir = \"../data/\"\n",
    "filename = \"mu0.1_lam0.0_66x81.txt\"\n",
    "\n",
    "df, indices = load_data.load_MRPhi_data(data_dir + filename)\n",
    "print(np.shape(df))\n",
    "stabCurve = scc.calc_stability_curve(df, indices, debug=True, curve_index=1)"
   ]
  },
  {
   "cell_type": "code",
   "execution_count": null,
   "metadata": {},
   "outputs": [],
   "source": [
    "importlib.reload(pfuncts)\n",
    "importlib.reload(scc)\n",
    "\n",
    "contourColors = ['green', 'brown', '#EE2C2C', \"#00688B\", \"#E8E8E8\"]\n",
    "contourLevels = [0.5, 0.62, 1.2, 2, 2.4]\n",
    "cbarLabel = r\"Total Gravitioanl Mass [M$_\\odot$]\"\n",
    "\n",
    "pfuncts.plotRhoPhi(df, indices, index = \"M_T\", stabCurve=stabCurve,\n",
    "                   cbarLabel=cbarLabel, contourColors=contourColors, contourLevels=contourLevels)\n",
    "plt.show()\n",
    "\n",
    "contourColors = [\"#E8E8E8\" ,'green', 'brown', '#EE2C2C', \"#00688B\", \"#8B3A62\"]\n",
    "contourLevels = [2, 5, 10, 11, 12, 13, 20]\n",
    "cbarLabel = r\"Fermionic Radius [km]\"\n",
    "pfuncts.plotRhoPhi(df, indices, index = \"R_F\", stabCurve=stabCurve,\n",
    "                   cbarLabel=cbarLabel, contourColors=contourColors, contourLevels=contourLevels, clim = [0, 20])\n",
    "plt.show()\n",
    "\n",
    "contourColors = [\"#E8E8E8\" ,'green', 'brown', '#EE2C2C']\n",
    "contourLevels = [2, 4, 5, 7, 10, 13]\n",
    "cbarLabel = r\"Tidal Deformability log($\\Lambda$)\"\n",
    "pfuncts.plotRhoPhi(df, indices, index = \"lambda_tidal\", stabCurve=stabCurve,\n",
    "                   cbarLabel=cbarLabel, contourColors=contourColors, contourLevels=contourLevels, scale = \"log\", clim = [0, 6])\n",
    "plt.show()"
   ]
  },
  {
   "cell_type": "code",
   "execution_count": null,
   "metadata": {},
   "outputs": [],
   "source": [
    "importlib.reload(pfuncts)\n",
    "\n",
    "pfuncts.plotMR(df, indices, s = 0.9, stabCurve=stabCurve)\n",
    "plt.show()"
   ]
  },
  {
   "cell_type": "code",
   "execution_count": null,
   "metadata": {},
   "outputs": [],
   "source": [
    "importlib.reload(pfuncts)\n",
    "\n",
    "pfuncts.plotTidal(df, indices, stabCurve=stabCurve)\n",
    "plt.show()"
   ]
  },
  {
   "cell_type": "code",
   "execution_count": null,
   "metadata": {},
   "outputs": [],
   "source": [
    "data_dir = \"../data/\"\n",
    "df1, indices = load_data.load_MRPhi_data(data_dir + \"mu0.1_lam0.0_102x101.txt\")\n",
    "sc1 = scc.calc_stability_curve(df1, indices, curve_index=1)\n",
    "df2, indices = load_data.load_MRPhi_data(data_dir + \"mu0.1_lam10.0_102x101.txt\")\n",
    "sc2 = scc.calc_stability_curve(df2, indices, curve_index=1)\n",
    "df3, indices = load_data.load_MRPhi_data(data_dir + \"mu0.1_lam100.0_102x101.txt\")\n",
    "sc3 = scc.calc_stability_curve(df3, indices, curve_index=1)\n",
    "\n",
    "df4, indices = load_data.load_MRPhi_data(data_dir + \"lin_mu1.0_lam0.0_100x100.txt\")\n",
    "sc4 = scc.calc_stability_curve(df4, indices, curve_index=0)\n",
    "df5, indices = load_data.load_MRPhi_data(data_dir + \"lin_mu1.0_lam10.0_100x100.txt\")\n",
    "sc5 = scc.calc_stability_curve(df5, indices,  curve_index=0)\n",
    "df6, indices = load_data.load_MRPhi_data(data_dir + \"lin_mu1.0_lam100.0_100x100.txt\")\n",
    "sc6 = scc.calc_stability_curve(df6, indices, curve_index=1)\n",
    "df7, indices = load_data.load_MRPhi_data(data_dir + \"lin_mu10.0_lam0.0_100x100.txt\")\n",
    "sc7 = scc.calc_stability_curve(df7, indices, curve_index=0)\n",
    "df8, indices = load_data.load_MRPhi_data(data_dir + \"lin_mu10.0_lam10.0_100x100.txt\")\n",
    "sc8 = scc.calc_stability_curve(df8, indices, curve_index=0)\n",
    "df9, indices = load_data.load_MRPhi_data(data_dir + \"lin_mu10.0_lam100.0_100x100.txt\")\n",
    "sc9 = scc.calc_stability_curve(df9, indices, curve_index=0)"
   ]
  },
  {
   "cell_type": "code",
   "execution_count": null,
   "metadata": {},
   "outputs": [],
   "source": [
    "importlib.reload(pfuncts)\n",
    "\n",
    "pfuncts.plotGrid([df1, df2, df3, df4, df5, df6, df7, df8, df9], indices, \n",
    "                 ylabel=r\"Total Gravitational Mass [$M_\\odot$]\", \n",
    "                 xlabel=r\"Fermionic Radius [km]\",\n",
    "                 plotPureBS=True,\n",
    "                 plotFunc = pfuncts.plotMR, nrows = 3, ncols = 3, s = 1, \n",
    "                 cmap=\"viridis\", ylim = [0, 2.8], xlim = [0, 22], tickFontSize = 15,\n",
    "                 stabCurves=[sc1, sc2, sc3, sc4, sc5, sc6, sc7, sc8, sc9])\n"
   ]
  },
  {
   "cell_type": "code",
   "execution_count": null,
   "metadata": {},
   "outputs": [],
   "source": [
    "importlib.reload(pfuncts)\n",
    "\n",
    "pfuncts.plotGrid([df1, df2, df3, df4, df5, df6, df7, df8, df9], indices, \n",
    "                 xlabel=r\"Total Gravitational Mass [M$_\\odot$]\",\n",
    "                 ylabel=r\"Tidal Deformability\",\n",
    "                 plotPureBS=True,\n",
    "                 plotFunc = pfuncts.plotTidal, nrows = 3, ncols = 3, s = 1, \n",
    "                 cmap=\"plasma\", ylim = [1, 5e6], tickFontSize = 15,\n",
    "                 stabCurves=[sc1, sc2, sc3, sc4, sc5, sc6, sc7, sc8, sc9])\n"
   ]
  },
  {
   "cell_type": "code",
   "execution_count": null,
   "metadata": {},
   "outputs": [],
   "source": []
  }
 ],
 "metadata": {
  "kernelspec": {
   "display_name": "Python 3",
   "language": "python",
   "name": "python3"
  },
  "language_info": {
   "codemirror_mode": {
    "name": "ipython",
    "version": 3
   },
   "file_extension": ".py",
   "mimetype": "text/x-python",
   "name": "python",
   "nbconvert_exporter": "python",
   "pygments_lexer": "ipython3",
   "version": "3.8.10"
  },
  "vscode": {
   "interpreter": {
    "hash": "916dbcbb3f70747c44a77c7bcd40155683ae19c65e1c03b4aa3499c5328201f1"
   }
  }
 },
 "nbformat": 4,
 "nbformat_minor": 2
}
