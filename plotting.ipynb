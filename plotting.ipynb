{
 "cells": [
  {
   "cell_type": "code",
   "execution_count": null,
   "metadata": {},
   "outputs": [],
   "source": [
    "import numpy as np\n",
    "import matplotlib.pyplot as plt\n",
    "import importlib\n",
    "\n",
    "from matplotlib import rcParams\n",
    "from matplotlib import rcParamsDefault\n",
    "from matplotlib import rc\n",
    "\n",
    "import pyfbs"
   ]
  },
  {
   "cell_type": "code",
   "execution_count": null,
   "metadata": {},
   "outputs": [],
   "source": [
    "data_dir = \"data/\"\n",
    "plot_dir = \"plots/\""
   ]
  },
  {
   "cell_type": "code",
   "execution_count": null,
   "metadata": {},
   "outputs": [],
   "source": [
    "#importlib.reload(scc)\n",
    "#importlib.reload(pfuncts)\n",
    "\n",
    "filename = \"mu10.0_lam0.0_120x120.txt\"\n",
    "#filename = \"mu0.1_lam0.0_140x120.txt\"\n",
    "\n",
    "df, indices = pyfbs.data.load_file(data_dir + filename)\n",
    "print(np.shape(df))\n",
    "stabCurve = pyfbs.stability_curve.calc_stability_curve(df, indices, debug=True, curve_index=0)"
   ]
  },
  {
   "cell_type": "code",
   "execution_count": null,
   "metadata": {},
   "outputs": [],
   "source": [
    "\n",
    "contourColors = ['green', 'brown', '#EE2C2C', \"#00688B\", \"#E8E8E8\"]\n",
    "contourLevels = [0.5, 0.62, 1.2, 2, 2.4]\n",
    "cbarLabel = r\"Total Gravitioanl Mass [M$_\\odot$]\"\n",
    "\n",
    "pyfbs.plotting.plotRhoPhi(df, indices, index = \"M_T\", stabCurve=stabCurve,\n",
    "                   cbarLabel=cbarLabel, contourColors=contourColors, contourLevels=contourLevels)\n",
    "plt.figure()\n",
    "contourColors = [\"#E8E8E8\" ,'green', 'brown', '#EE2C2C', \"#00688B\", \"#8B3A62\"]\n",
    "contourLevels = [2, 5, 10, 11, 12, 13, 20]\n",
    "cbarLabel = r\"Fermionic Radius [km]\"\n",
    "pyfbs.plotting.plotRhoPhi(df, indices, index = \"R_F\", stabCurve=stabCurve,\n",
    "                   cbarLabel=cbarLabel, contourColors=contourColors, contourLevels=contourLevels, clim = [0, 20])\n",
    "plt.figure()\n",
    "contourColors = [\"#E8E8E8\" ,'green', 'brown', '#EE2C2C', \"#00688B\", \"#8B3A62\"]\n",
    "contourLevels = [2, 5, 10, 11, 12, 13, 20]\n",
    "cbarLabel = r\"Bosonic Radius [km]\"\n",
    "pyfbs.plotting.plotRhoPhi(df, indices, index = \"R_B_0\", stabCurve=stabCurve,\n",
    "                   cbarLabel=cbarLabel, contourColors=contourColors, contourLevels=contourLevels, clim = [0, 20])\n",
    "plt.figure()\n",
    "contourColors = [\"#E8E8E8\" ,'green', 'brown', '#EE2C2C']\n",
    "contourLevels = [2, 4, 5, 7, 10, 13]\n",
    "cbarLabel = r\"Tidal Deformability log($\\Lambda$)\"\n",
    "pyfbs.plotting.plotRhoPhi(df, indices, index = \"lambda_tidal\", stabCurve=stabCurve,\n",
    "                   cbarLabel=cbarLabel, contourColors=contourColors, contourLevels=contourLevels, scale = \"log\", clim = [0, 6])\n",
    "plt.show()"
   ]
  },
  {
   "cell_type": "code",
   "execution_count": null,
   "metadata": {},
   "outputs": [],
   "source": [
    "plt.figure(figsize=(8,5))\n",
    "#pyfbs.plotting.plotMR(df, indices, s = 0.9, stabCurve=stabCurve, ylim=(0.,3.), xlim=(0, 30))\n",
    "pyfbs.plotting.scatter_XY(df, indices, 'R_G', 'M_T', s = 0.9, stabCurve=stabCurve, ylim=(0.,3.), xlim=(0, 30))\n",
    "plt.show()"
   ]
  },
  {
   "cell_type": "code",
   "execution_count": null,
   "metadata": {},
   "outputs": [],
   "source": [
    "plt.figure(figsize=(8,5))\n",
    "#pyfbs.plotting.plotMR(df, indices, s = 0.9, stabCurve=stabCurve, ylim=(0.,3.), xlim=(0, 30))\n",
    "pyfbs.plotting.scatter_XY(df, indices, 'R_F', 'M_T', s = 0.9, stabCurve=stabCurve, ylim=(0.,3.), xlim=(0, 30))\n",
    "plt.show()"
   ]
  },
  {
   "cell_type": "code",
   "execution_count": null,
   "metadata": {},
   "outputs": [],
   "source": [
    "plt.figure(figsize=(8,5))\n",
    "#pyfbs.plotting.plotMR(df, indices, s = 0.9, stabCurve=stabCurve, ylim=(0.,3.), xlim=(0, 30))\n",
    "pyfbs.plotting.scatter_MR(df, indices, s = 0.9, ylim=(0.,3.), xlim=(0, 30))\n",
    "plt.show()"
   ]
  },
  {
   "cell_type": "code",
   "execution_count": null,
   "metadata": {},
   "outputs": [],
   "source": [
    "plt.figure(figsize=(8,5))\n",
    "#pyfbs.plotting.plotMR(df, indices, s = 0.9, stabCurve=stabCurve, ylim=(0.,3.), xlim=(0, 30))\n",
    "pyfbs.plotting.scatter_XY(df, indices, 'M_T', 'lambda_tidal', s = 0.9, stabCurve=stabCurve, \n",
    "                          ylim=(1,1e6), xlim=(0, 3), yscale='log')\n",
    "plt.show()"
   ]
  },
  {
   "cell_type": "code",
   "execution_count": null,
   "metadata": {},
   "outputs": [],
   "source": [
    "importlib.reload(pyfbs.plotting)\n",
    "#pyfbs.plotting.plotTidal(df, indices, stabCurve=stabCurve, xlim=(0., 2.5), ylim=(1., 1e8))\n",
    "pyfbs.plotting.scatter_Tidal(df, indices, stabCurve=stabCurve, xlim=(0., 2.5), ylim=(1., 1e8))\n",
    "plt.show()"
   ]
  },
  {
   "cell_type": "code",
   "execution_count": null,
   "metadata": {},
   "outputs": [],
   "source": [
    "importlib.reload(pyfbs.data)\n",
    "data_dir = \"data/\"\n",
    "df1, indices_ = pyfbs.data.load_file(data_dir + \"pow_mu0.1_lam0.0_100x100.txt\")\n",
    "df1, indices_ = pyfbs.data.add_Lambda_int(df1, indices_)\n",
    "sc1 = pyfbs.stability_curve.calc_stability_curve(df1, indices_, curve_index=0)\n",
    "\n",
    "df2, indices_ = pyfbs.data.load_file(data_dir + \"pow_mu0.1_lam10.0_100x100.txt\")\n",
    "df2, indices_ = pyfbs.data.add_Lambda_int(df2, indices_)\n",
    "sc2 = pyfbs.stability_curve.calc_stability_curve(df2, indices_, curve_index=0)\n",
    "\n",
    "df3, indices_ = pyfbs.data.load_file(data_dir + \"pow_mu0.1_lam100.0_100x100.txt\")\n",
    "df3, indices_ = pyfbs.data.add_Lambda_int(df3, indices_)\n",
    "sc3 = pyfbs.stability_curve.calc_stability_curve(df3, indices_, curve_index=0)\n",
    "\n",
    "df4, indices = pyfbs.data.load_file(data_dir + \"mu1.0_lam0.0_120x120.txt\")\n",
    "df4, indices = pyfbs.data.add_Lambda_int(df4, indices)\n",
    "sc4 =  pyfbs.stability_curve.calc_stability_curve(df4, indices, curve_index=0)\n",
    "\n",
    "df5, indices = pyfbs.data.load_file(data_dir + \"mu1.0_lam10.0_120x120.txt\")\n",
    "df5, indices = pyfbs.data.add_Lambda_int(df5, indices)\n",
    "sc5 = pyfbs.stability_curve.calc_stability_curve(df5, indices,  curve_index=0)\n",
    "\n",
    "df6, indices = pyfbs.data.load_file(data_dir + \"mu1.0_lam100.0_120x120.txt\")\n",
    "df6, indices = pyfbs.data.add_Lambda_int(df6, indices)\n",
    "sc6 = pyfbs.stability_curve.calc_stability_curve(df6, indices, curve_index=0)\n",
    "\n",
    "df7, indices = pyfbs.data.load_file(data_dir + \"mu10.0_lam0.0_120x120.txt\")\n",
    "df7, indices = pyfbs.data.add_Lambda_int(df7, indices)\n",
    "sc7 = pyfbs.stability_curve.calc_stability_curve(df7, indices, curve_index=0)\n",
    "\n",
    "df8, indices = pyfbs.data.load_file(data_dir + \"mu10.0_lam10.0_120x120.txt\")\n",
    "df8, indices = pyfbs.data.add_Lambda_int(df8, indices)\n",
    "sc8 = pyfbs.stability_curve.calc_stability_curve(df8, indices, curve_index=0)\n",
    "\n",
    "df9, indices = pyfbs.data.load_file(data_dir + \"mu10.0_lam100.0_120x120.txt\")\n",
    "df9, indices = pyfbs.data.add_Lambda_int(df9, indices)\n",
    "sc9 = pyfbs.stability_curve.calc_stability_curve(df9, indices, curve_index=0)\n"
   ]
  },
  {
   "cell_type": "code",
   "execution_count": null,
   "metadata": {},
   "outputs": [],
   "source": [
    "importlib.reload(pyfbs.plotting)\n",
    "\n",
    "axs1 = pyfbs.plotting.grid_Scatter([ df4, df5, df6, df7, df8, df9], indices, \n",
    "                 scatterFunc = pyfbs.plotting.scatter_XY, X='R_F', Y='M_T',\n",
    "                 ylabel=r\"Total Gravitational Mass [$M_\\odot$]\", \n",
    "                 xlabel=r\"Fermionic Radius [km]\",\n",
    "                 nrows = 2, ncols = 3, figHeight=10, figWidth=13,\n",
    "                 cmap=\"cividis\", tickFontSize = 15,\n",
    "                 s = 1, ylim = [0, 2.8], xlim = [0, 18], plotPureBS=True,\n",
    "                 stabCurves=[ sc4, sc5, sc6, sc7, sc8, sc9],\n",
    "                 overlay_info={'mu':\"m\", 'Lambda_int':\"\\Lambda_{int}\"})\n",
    "\n",
    "\n",
    "plt.savefig(plot_dir + \"MR_3x2.pdf\")"
   ]
  },
  {
   "cell_type": "code",
   "execution_count": null,
   "metadata": {},
   "outputs": [],
   "source": [
    "importlib.reload(pyfbs.plotting)\n",
    "axs2 = pyfbs.plotting.grid_Scatter([ df1, df2, df3], indices_, \n",
    "                 scatterFunc = pyfbs.plotting.scatter_MR, \n",
    "                 ylabel=r\"Total Gravitational Mass [$M_\\odot$]\", \n",
    "                 xlabel=r\"Fermionic Radius [km]\",\n",
    "                 nrows = 1, ncols = 3, figHeight=5, figWidth=13,\n",
    "                 cmap=\"viridis\", tickFontSize = 18,\n",
    "                 s = 1,  ylim = [0, 10], xlim = [5, 20], #plotPureBS=True,\n",
    "                 stabCurves=[ sc1, sc2, sc3],\n",
    "                 overlay_info={'mu':\"m\", 'Lambda_int':\"\\Lambda_{int}\"}, overlay_loc=2,\n",
    "                 lockAxes=False, addColorbar=False, addLegend=False)\n",
    "\n",
    "#plt.subplots_adjust(hspace=)\n",
    "axs2[0].set_ylim(0,7.)\n",
    "axs2[1].set_ylim(0,10.)\n",
    "axs2[2].set_ylim(0,25.)\n",
    "plt.savefig(plot_dir + \"MR_3x1.pdf\")"
   ]
  },
  {
   "cell_type": "code",
   "execution_count": null,
   "metadata": {},
   "outputs": [],
   "source": [
    "importlib.reload(pyfbs.plotting)\n",
    "\n",
    "axs = pyfbs.plotting.grid_Scatter([df4, df5, df6, df7, df8, df9], indices, \n",
    "                 xlabel=r\"Total Gravitational Mass [M$_\\odot$]\",\n",
    "                 ylabel=r\"Tidal Deformability\",\n",
    "                 plotPureBS=True, figHeight=10,\n",
    "                 scatterFunc = pyfbs.plotting.scatter_Tidal, nrows = 2, ncols = 3, s = 1, \n",
    "                 cmap=\"plasma\", ylim = [1, 5e6], tickFontSize = 15,\n",
    "                 stabCurves=[sc4, sc5, sc6, sc7, sc8, sc9],\n",
    "                 overlay_info={'mu':\"m\", 'Lambda_int':\"\\Lambda_{int}\"})\n",
    "\n",
    "plt.savefig(plot_dir + \"ML_3x2.pdf\")"
   ]
  },
  {
   "cell_type": "code",
   "execution_count": null,
   "metadata": {},
   "outputs": [],
   "source": [
    "importlib.reload(pyfbs.plotting)\n",
    "\n",
    "axs2 = pyfbs.plotting.grid_Scatter([df1, df2, df3], indices_, \n",
    "                 xlabel=r\"Total Gravitational Mass [M$_\\odot$]\",\n",
    "                 ylabel=r\"Tidal Deformability\",\n",
    "                 plotPureBS=True, figHeight=5, figWidth=13,\n",
    "                 scatterFunc = pyfbs.plotting.scatter_Tidal, nrows = 1, ncols = 3, s = 1, \n",
    "                 cmap=\"plasma\", ylim = [1, 1e11], xlim=[0, 5], tickFontSize = 18,\n",
    "                 stabCurves=[sc1, sc2, sc3],\n",
    "                 overlay_info={'mu':\"m\", 'Lambda_int':\"\\Lambda_{int}\"},\n",
    "                 addColorbar=False, addLegend=False, lockAxes=False)\n",
    "\n",
    "axs2[0].set_xlim(0, 7)\n",
    "axs2[1].set_xlim(0, 10); axs2[1].tick_params( labelleft=False, left=False)\n",
    "axs2[2].set_xlim(0, 24); axs2[2].tick_params( labelleft=False, left=False)\n",
    "plt.savefig(plot_dir + \"ML_3x1.pdf\")"
   ]
  },
  {
   "cell_type": "code",
   "execution_count": null,
   "metadata": {},
   "outputs": [],
   "source": []
  },
  {
   "cell_type": "code",
   "execution_count": null,
   "metadata": {},
   "outputs": [],
   "source": []
  }
 ],
 "metadata": {
  "kernelspec": {
   "display_name": "Python 3",
   "language": "python",
   "name": "python3"
  },
  "language_info": {
   "codemirror_mode": {
    "name": "ipython",
    "version": 3
   },
   "file_extension": ".py",
   "mimetype": "text/x-python",
   "name": "python",
   "nbconvert_exporter": "python",
   "pygments_lexer": "ipython3",
   "version": "3.8.10"
  },
  "vscode": {
   "interpreter": {
    "hash": "916dbcbb3f70747c44a77c7bcd40155683ae19c65e1c03b4aa3499c5328201f1"
   }
  }
 },
 "nbformat": 4,
 "nbformat_minor": 2
}
