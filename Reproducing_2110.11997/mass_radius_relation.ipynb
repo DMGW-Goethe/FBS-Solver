{
 "cells": [
  {
   "cell_type": "markdown",
   "metadata": {},
   "source": [
    "# Mass-Radius relation for a Fermion-Boson Star\n",
    "\n",
    "So, basically I want to reproduce the findings in https://arxiv.org/pdf/2110.11997.pdf, where the TOV equations are solved for a complex scalar field, which might play the role of DM and additionally fermionic matter, which takes the role of ordinary matter (such as neutrons in our case). The EoS for the fermionic part is therefore chosen among tabulated ones that are calculated for neutron stars.\n",
    "\n",
    "The goal of the paper is to explore how the mass-radius relation can be modified by introducing the bosonic matter in order to make it compatible with recent observations. These observations are:\n",
    "\n",
    "- ???: PSR J1614-2230 & PSR J0348+0432 have masses close to 2 $\\textup{M}_\\odot$ (Only the mass was measured accurately)\n",
    "- NICER: <span style=\"color:green\">PSR J0030+0451</span> has $M \\approx 1.4 \\textup{M}_\\odot$ and $r \\approx 13$ km\n",
    "- NICER + XMM-Newton: <span style=\"color:red\">PSR J0740+6620</span> has $M \\approx 2.08 \\textup{M}_\\odot$ and $r \\approx 13$ km\n",
    "- GW170817\n",
    "- GW190814: the secondary object has an estimated mass of $2.50 - 2.67 \\textup{M}_\\odot$, which is quite heavy for a NS (so maybe it's actually a black hole ¯\\\\\\_(ツ)\\_/¯)\n",
    "\n",
    "\n",
    "Especially the fact that <span style=\"color:green\">PSR J0030+0451</span> and <span style=\"color:red\">PSR J0740+6620</span> have similar radii, but quite different masses is interesting.\n",
    "\n",
    "Things that I find a bit weird about the paper:\n",
    "- I am a bit confused about the units they use. Since they have $c = G = \\hbar = 1$, I would expect a mass of $m = 1$ to translate to $m = 1\\,m_\\text{pl} \\approx 10^{19}\\,\\text{GeV}$, but they say that $m = 1$ corresponds to $m = 1.34 \\times 10^{-11}\\,\\text{eV}$ (page 4 bottom left corner). Ok, I figured it out. It's described in appendix A of https://arxiv.org/pdf/1807.06959.pdf\n",
    "\n",
    "\n",
    "Some notes about this work and it's context:\n",
    "- The current work does not consider self-interactions (e.g. $\\lambda = 0$)\n",
    "- The authors published several papers in a series, investigating fermion-boson stars. The other ones seem to be about stability and formation processes. See e.g. https://arxiv.org/pdf/2006.08583.pdf, https://arxiv.org/pdf/2105.00530.pdf"
   ]
  },
  {
   "cell_type": "markdown",
   "metadata": {},
   "source": [
    "# Getting to work: solving the equations"
   ]
  },
  {
   "cell_type": "code",
   "execution_count": 18,
   "metadata": {},
   "outputs": [],
   "source": [
    "import numpy as np\n",
    "from scipy.integrate import solve_ivp # I use solve_ivp instead of odeint. odeint might be faster, but solve_ivp allows to specify the used integration method\n",
    "from scipy.optimize import fsolve # used to find the eigenvalue omega (i.e. carrying out the shooting method)\n",
    "import matplotlib.pyplot as plt\n",
    "\n",
    "pi = np.pi\n",
    "mu = 1 # the mass of the bosonic field\n",
    "lam = 0 # the self-interaction parameter in the quartic coupling\n",
    "\n",
    "# the min and max radius between which the ODEs are solved\n",
    "minRadius = 1e-5\n",
    "maxRadius = 2000\n",
    "\n",
    "# equation of state\n",
    "def EoS_polytrope_pressure(rho):\n",
    "    K = 100\n",
    "    gamma = 2\n",
    "    return K * rho**gamma\n",
    "\n",
    "def EoS_polytrope_rho(P):\n",
    "    K = 100\n",
    "    gamma = 2\n",
    "    return (P / K)**(1 / gamma)\n",
    "\n",
    "# this functions returns df/dr (we assume spherical symmetry in all components)\n",
    "def fun(r, y):\n",
    "    # using the same order and notation as in the paper\n",
    "    a = y[0] # this the radial factor in the metric\n",
    "    alpha = y[1] # this the time factor in the metric\n",
    "    phi = y[2] # this the field value of the bosonic field \n",
    "    psi = y[3] # this just the radial derivative of phi (= dphi/dr)\n",
    "    P = y[4] # this the pressure\n",
    "    omega = y[5] # I am cheating a bit by passing omega as one of the array components (not sure how to do it otherwise)\n",
    "\n",
    "    if(P < 0): # make sure that the pressure vanishes after we cross the surface (which is defined at P = 0)\n",
    "        P = 0\n",
    "\n",
    "    rho = EoS_polytrope_rho(P)\n",
    "    epsilon = 0 # ???\n",
    "\n",
    "    dadr = a / 2 * ((1 - a*a) / r + 4 * pi * r * ((omega**2/alpha**2 + mu**2 + lam/2 * phi**2) * a**2 * phi**2 + psi**2 + 2 * a**2 * rho * (1 + epsilon)))\n",
    "    dalphadr = alpha / 2 * ((a*a - 1) / r + 4 * pi * r * ((omega**2/alpha**2 - mu**2 - lam/2 * phi**2) * a**2 * phi**2 + psi**2 + 2 * a**2 * P))\n",
    "    dphidr = psi\n",
    "    dpsidr = -(1 + a**2 - 4 * pi * r**2 * a**2 * (mu**2 * phi**2 + lam/2 * phi**4 + rho * (1 + epsilon) - P)) * psi / r - (omega**2 / alpha**2 - mu**2 - lam * phi**2) * a**2 * phi**2\n",
    "    dPdr = -(rho * (1 + epsilon) + P) * dalphadr / alpha\n",
    "\n",
    "    return [dadr, dalphadr, dphidr, dpsidr, dPdr, 0]\n",
    "\n",
    "# this returns a solution to the system of ODEs in terms of phic, rhoc and omega. This is not yet a physical solution though. We have to choose omega so that phic vanishes at infinity\n",
    "def getProtoSolution(phic, rhoc, omega):\n",
    "    # initial conditions\n",
    "    # a = 0, alpha = 0, phi = phi_c, psi = 0, p = K * rho_c^gamma, rho = rho_c (all quantities evaluated at r = 0)\n",
    "    ac = 1\n",
    "    alphac = 1  \n",
    "    psic = 0\n",
    "    Pc = EoS_polytrope_pressure(rhoc)\n",
    "\n",
    "    r0 = minRadius\n",
    "    rmax = maxRadius\n",
    "\n",
    "    y0 = [ac, alphac, phic, psic, Pc, omega]\n",
    "    rvals = np.linspace(r0, rmax, 100000)\n",
    "\n",
    "    return solve_ivp(fun, [r0, rmax], y0, atol = 1e-9, rtol = 1e-9)\n",
    "\n",
    "# here we take a proto solution and turn it into a physical one by finding the value of omega such that phi goes to 0 for large radii\n",
    "def getSolution(phic, rhoc):\n",
    "\n",
    "    res = [1.6]\n",
    "    \n",
    "    # I first solve for omega to maximize the possible radius (the ode solver just stops at some radii if a problem occurs and this way we (somewhat) guarantee that we actually solved up to rmax)\n",
    "    def root_rend(omega):\n",
    "        guess = getProtoSolution(phic, rhoc, omega[0])\n",
    "        rend = guess['t'][-1]\n",
    "        phiend = guess['y'][2][-1]\n",
    "        return rend - maxRadius\n",
    "\n",
    "    res = fsolve(root_rend, [abs(res[0])])\n",
    "    \n",
    "    # after maximizing the radius we bring phi at it as close to zero as possible to get the most accurate value for omega\n",
    "    def root_phiend(omega):\n",
    "        guess = getProtoSolution(phic, rhoc, omega[0])\n",
    "        rend = guess['t'][-1]\n",
    "        aend = guess['y'][0][-1]\n",
    "        alphaend = guess['y'][1][-1]\n",
    "        phiend = guess['y'][2][-1]\n",
    "        psiend = guess['y'][3][-1]\n",
    "        Pend = guess['y'][4][-1]\n",
    "\n",
    "        derivs = fun(rend, [aend, alphaend, phiend, psiend, Pend, omega])\n",
    "        dphienddr = derivs[2]\n",
    "\n",
    "        return abs(dphienddr) + abs(phiend)\n",
    "\n",
    "    res = fsolve(root_phiend, [abs(res[0])]) # this is the final value for omega\n",
    "    print(res)\n",
    "    return getProtoSolution(phic, rhoc, res[0])\n",
    "\n",
    "'''\n",
    "    def root_aalpha(omega):\n",
    "        guess = getProtoSolution(phic, rhoc, omega[0])\n",
    "        a = guess['y'][0][-1]\n",
    "        alpha = guess['y'][1][-1]\n",
    "        return a*alpha - 1\n",
    "    \n",
    "    res = fsolve(root_aalpha, [1]) # this is the final value for omega\n",
    "    print(res)\n",
    "'''\n",
    "# returns value for the fermion (NS) radius\n",
    "def getFermionRadius(solution):\n",
    "    P = solution['y'][4]\n",
    "    radii = solution['t']\n",
    "\n",
    "    for i in range(len(radii)):\n",
    "        if P[i] < 0:\n",
    "            return radii[i] * 1.6 # the 1.6 convert the result to km (TODO check that the factor is correct)\n",
    "    pass\n",
    "\n",
    "# this is the >total< gravitational mass (fermions + bosons)\n",
    "def getGravitationalMass(solution):\n",
    "    aend = solution['y'][0][-1]\n",
    "    alphaend = solution['y'][1][-1]\n",
    "    rend = solution['t'][-1]\n",
    "\n",
    "    return rend / 2 * (1 - 1 / aend**2)"
   ]
  },
  {
   "cell_type": "code",
   "execution_count": null,
   "metadata": {},
   "outputs": [],
   "source": [
    "phic = 0.000\n",
    "rhoc = 0.002\n",
    "\n",
    "z = getSolution(0.003, 0.002)\n",
    "#z = getProtoSolution(0.003, 0.002, 2.078)\n",
    "\n",
    "\n",
    "print(getFermionRadius(z))\n",
    "print(getGravitationalMass(z))\n",
    "\n",
    "plt.plot(z['t'], z['y'][4])\n",
    "plt.plot(z['t'], EoS_polytrope_rho(z['y'][4]))\n",
    "plt.xlim([0, 10])\n",
    "plt.show()\n",
    "\n",
    "\n",
    "plt.plot(z['t'], z['y'][2])\n",
    "plt.show()\n",
    "\n",
    "plt.plot(z['t'], z['y'][0])\n",
    "\n",
    "plt.plot(z['t'], z['y'][1])\n",
    "plt.show()\n",
    "plt.plot(z['t'], z['y'][2])\n",
    "'''\n",
    "z = getProtoSolution(0, rhoc, 1.65)\n",
    "print(z['success'])\n",
    "plt.plot(z['t'], EoS_polytrope_rho(z['y'][4]))\n",
    "plt.ylim([0, 0.003])\n",
    "plt.show()\n",
    "\n",
    "plt.plot(testValues, maxRadius)\n",
    "plt.show()\n",
    "\n",
    "plt.plot(testValues, maxVal)\n",
    "plt.show()\n",
    "'''"
   ]
  },
  {
   "cell_type": "code",
   "execution_count": 31,
   "metadata": {},
   "outputs": [
    {
     "data": {
      "text/plain": [
       "(0.0, 3.0)"
      ]
     },
     "execution_count": 31,
     "metadata": {},
     "output_type": "execute_result"
    },
    {
     "data": {
      "image/png": "[encoded data removed]",
      "text/plain": [
       "<Figure size 432x288 with 1 Axes>"
      ]
     },
     "metadata": {
      "needs_background": "light"
     },
     "output_type": "display_data"
    }
   ],
   "source": [
    "rhomin = 0.000002\n",
    "rhomax = 0.02\n",
    "rhoamt = 100\n",
    "\n",
    "sampeVals = np.linspace(rhomin, rhomax, rhoamt)\n",
    "\n",
    "massVals = []\n",
    "radVals = []\n",
    "\n",
    "for val in sampeVals:\n",
    "    sol = getProtoSolution(0, val, 0)\n",
    "\n",
    "    mass = getGravitationalMass(sol)\n",
    "    rad = getFermionRadius(sol)\n",
    "\n",
    "    massVals.append(mass)\n",
    "    radVals.append(rad)\n",
    "\n",
    "plt.scatter(radVals, massVals)\n",
    "plt.xlim([0, 20])\n",
    "plt.ylim([0, 3])\n"
   ]
  },
  {
   "cell_type": "code",
   "execution_count": 42,
   "metadata": {},
   "outputs": [
    {
     "name": "stdout",
     "output_type": "stream",
     "text": [
      "[1.83684207]\n",
      "[3.60539615]\n",
      "[5.63252567]\n",
      "[7.90974827]\n",
      "[10.43747457]\n",
      "[13.21791928]\n",
      "[16.25364246]\n",
      "[19.5471326]\n",
      "[23.10068006]\n",
      "[26.91637371]\n"
     ]
    },
    {
     "data": {
      "text/plain": [
       "(0.0, 3.0)"
      ]
     },
     "execution_count": 42,
     "metadata": {},
     "output_type": "execute_result"
    },
    {
     "data": {
      "image/png": "[encoded data removed]",
      "text/plain": [
       "<Figure size 432x288 with 1 Axes>"
      ]
     },
     "metadata": {
      "needs_background": "light"
     },
     "output_type": "display_data"
    }
   ],
   "source": [
    "rhomin = 0.000002\n",
    "rhomax = 0.02\n",
    "rhoamt = 10\n",
    "\n",
    "sampeVals = np.linspace(rhomin, rhomax, rhoamt)\n",
    "\n",
    "massVals = []\n",
    "radVals = []\n",
    "\n",
    "for val in sampeVals:\n",
    "    sol = getSolution(0.000002, val)\n",
    "\n",
    "    mass = getGravitationalMass(sol)\n",
    "    rad = getFermionRadius(sol)\n",
    "\n",
    "    massVals.append(mass)\n",
    "    radVals.append(rad)\n",
    "\n",
    "plt.scatter(radVals, massVals)\n",
    "plt.xlim([0, 20])\n",
    "plt.ylim([0, 3])"
   ]
  },
  {
   "cell_type": "code",
   "execution_count": 43,
   "metadata": {},
   "outputs": [
    {
     "name": "stdout",
     "output_type": "stream",
     "text": [
      "[0.030679528063903838, 1.8944130137448223, 2.0194141494607187, 1.9684157593590212, 1.8987370343878096, 1.8355803609038102, 1.7823850435192412, 1.738280548987392, 1.7016980044601837, 1.6711824737634107]\n",
      "[20.155027363409683, 14.184817899712767, 11.869212215564293, 10.640101824116224, 9.889512203011023, 9.391566159327493, 9.042450942740388, 8.788709302543952, 8.598273610520387, 8.453269823487672]\n"
     ]
    }
   ],
   "source": [
    "print(massVals)\n",
    "print(radVals)"
   ]
  },
  {
   "cell_type": "code",
   "execution_count": 13,
   "metadata": {},
   "outputs": [
    {
     "data": {
      "image/png": "[encoded data removed]",
      "text/plain": [
       "<Figure size 432x288 with 1 Axes>"
      ]
     },
     "metadata": {
      "needs_background": "light"
     },
     "output_type": "display_data"
    },
    {
     "data": {
      "image/png": "[encoded data removed]",
      "text/plain": [
       "<Figure size 432x288 with 1 Axes>"
      ]
     },
     "metadata": {
      "needs_background": "light"
     },
     "output_type": "display_data"
    },
    {
     "data": {
      "image/png": "[encoded data removed]",
      "text/plain": [
       "<Figure size 432x288 with 1 Axes>"
      ]
     },
     "metadata": {
      "needs_background": "light"
     },
     "output_type": "display_data"
    }
   ],
   "source": [
    "omegaMin = 0\n",
    "omegaMax = 17\n",
    "omegaAmt = 100\n",
    "\n",
    "sampleSpace = np.linspace(omegaMin, omegaMax, omegaAmt)\n",
    "\n",
    "rVals = []\n",
    "phiVals = []\n",
    "dphiVals = []\n",
    "\n",
    "for val in sampleSpace:\n",
    "    sol = getProtoSolution(0.0003, 0.002, val)\n",
    "    rend = sol['t'][-1]\n",
    "\n",
    "    aend = sol['y'][0][-1]\n",
    "    alphaend = sol['y'][1][-1]\n",
    "    phiend = sol['y'][2][-1]\n",
    "    psiend = sol['y'][3][-1]\n",
    "    Pend = sol['y'][4][-1]\n",
    "\n",
    "    derivs = fun(rend, [aend, alphaend, phiend, psiend, Pend, val])\n",
    "    dphienddr = derivs[2]\n",
    "\n",
    "    rVals.append(rend)\n",
    "    phiVals.append(phiend)\n",
    "    dphiVals.append(dphienddr)\n",
    "\n",
    "plt.plot(sampleSpace, rVals)\n",
    "plt.show()\n",
    "plt.plot(sampleSpace, phiVals)\n",
    "plt.show()\n",
    "plt.plot(sampleSpace, dphiVals)\n",
    "plt.show()"
   ]
  }
 ],
 "metadata": {
  "interpreter": {
   "hash": "7a17b431f652000418fef3b7922af096b36fbe8da7ae379b8e58e0a1d7cf343c"
  },
  "kernelspec": {
   "display_name": "Python 3.10.0 64-bit",
   "language": "python",
   "name": "python3"
  },
  "language_info": {
   "codemirror_mode": {
    "name": "ipython",
    "version": 3
   },
   "file_extension": ".py",
   "mimetype": "text/x-python",
   "name": "python",
   "nbconvert_exporter": "python",
   "pygments_lexer": "ipython3",
   "version": "3.10.0"
  },
  "orig_nbformat": 4
 },
 "nbformat": 4,
 "nbformat_minor": 2
}
