{
 "cells": [
  {
   "cell_type": "markdown",
   "metadata": {},
   "source": [
    "# Mass-Radius relation for a Fermion-Boson Star\n",
    "\n",
    "So, basically I want to reproduce the findings in https://arxiv.org/pdf/2110.11997.pdf, where the TOV equations are solved for a complex scalar field, which might play the role of DM and additionally fermionic matter, which takes the role of ordinary matter (such as neutrons in our case). The EoS for the fermionic part is therefore chosen among tabulated ones that are calculated for neutron stars.\n",
    "\n",
    "The goal of the paper is to explore how the mass-radius relation can be modified by introducing the bosonic matter in order to make it compatible with recent observations. These observations are:\n",
    "\n",
    "- ???: PSR J1614-2230 & PSR J0348+0432 have masses close to 2 $\\textup{M}_\\odot$ (Only the mass was measured accurately)\n",
    "- NICER: <span style=\"color:green\">PSR J0030+0451</span> has $M \\approx 1.4 \\textup{M}_\\odot$ and $r \\approx 13$ km\n",
    "- NICER + XMM-Newton: <span style=\"color:red\">PSR J0740+6620</span> has $M \\approx 2.08 \\textup{M}_\\odot$ and $r \\approx 13$ km\n",
    "- GW170817\n",
    "- GW190814: the secondary object has an estimated mass of $2.50 - 2.67 \\textup{M}_\\odot$, which is quite heavy for a NS (so maybe it's actually a black hole ¯\\\\\\_(ツ)\\_/¯)\n",
    "\n",
    "\n",
    "Especially the fact that <span style=\"color:green\">PSR J0030+0451</span> and <span style=\"color:red\">PSR J0740+6620</span> have similar radii, but quite different masses is interesting.\n",
    "\n",
    "Things that I find a bit weird about the paper:\n",
    "- I am a bit confused about the units they use. Since they have $c = G = \\hbar = 1$, I would expect a mass of $m = 1$ to translate to $m = 1\\,m_\\text{pl} \\approx 10^{19}\\,\\text{GeV}$, but they say that $m = 1$ corresponds to $m = 1.34 \\times 10^{-11}\\,\\text{eV}$ (page 4 bottom left corner). Ok, I figured it out. It's described in appendix A of https://arxiv.org/pdf/1807.06959.pdf\n",
    "\n",
    "\n",
    "Some notes about this work and it's context:\n",
    "- The current work does not consider self-interactions (e.g. $\\lambda = 0$)\n",
    "- The authors published several papers in a series, investigating fermion-boson stars. The other ones seem to be about stability and formation processes. See e.g. https://arxiv.org/pdf/2006.08583.pdf, https://arxiv.org/pdf/2105.00530.pdf"
   ]
  },
  {
   "cell_type": "markdown",
   "metadata": {},
   "source": [
    "# About units\n",
    "\n",
    "We are using units such that $G = c = \\textup{M}_\\odot = 1$. This means that units of length are given by\n",
    "\n",
    "\\begin{align}\n",
    "\\begin{split}\n",
    "    \\text{[length]} &= \\frac{G  \\textup{M}_\\odot}{c^2} \\approx 1.477\\,\\text{km} = 1.477 \\times 10^{18}\\,\\text{fm} \\\\\n",
    "    \\text{[mass density]} &= \\text{[mass / length$^3$]} \\approx 0.31\\, \\textup{M}_\\odot / \\text{km}^3 \\approx 1.988 \\times 10^{21}\\, \\text{kg/m}^3 \\\\\n",
    "    \\text{[energy density]} &\\approx 5.55 \\times 10^{37}\\,\\text{J/m}^3 \\\\\n",
    "    \\text{[energy]} &= \\textup{M}_\\odot c^2 \\approx 1.787 \\times 10^{47}\\,\\text{J} \\approx 2.863 \\times 10^{65}\\, \\text{eV} \\\\\n",
    "    1\\,\\text{MeV/fm}^3 &\\approx 1.602 \\times 10^{-13}\\,\\text{J/fm}^3 = 1.602 \\times 10^{32}\\,\\text{J/m}^3\n",
    "\\end{split}\n",
    "\\end{align}\n",
    "\n",
    "For example, if we have a (rest) mass density of $0.0012$ (this is a value that was also used in the paper), then in SI units this corresponds to $0.0012 \\times 1.988 \\times 10^{21}\\, \\text{kg/m}^3 = 2.3856 \\times 10^{18} \\text{kg/m}^3$. Which is roughly ten times nuclear density. This means, if I want to convert from $\\text{MeV/fm}^3$ to code units, then I only have to multiply the value by $2.88 \\times 10^{-6}$.\n"
   ]
  },
  {
   "cell_type": "markdown",
   "metadata": {},
   "source": [
    "# EoS class\n",
    "\n",
    "The following class can load a equation of state table as created by compose and convert it into code units. The table should be in the same directory as this notebook."
   ]
  },
  {
   "cell_type": "code",
   "execution_count": 68,
   "metadata": {},
   "outputs": [],
   "source": [
    "import numpy as np\n",
    "\n",
    "class EoS:\n",
    "    neutron_mass = 939.565379 # MeV\n",
    "\n",
    "    def __init__(self, name):\n",
    "        self.name = name\n",
    "        self.load()\n",
    "    \n",
    "    def load(self):\n",
    "        self.raw_data = np.loadtxt(\"eos.table\").T\n",
    "\n",
    "        # the following is in compose units\n",
    "        self.baryonNumberDensity = self.raw_data[1] # fm^-3\n",
    "        self.pressure = self.raw_data[3] # MeV fm^-3\n",
    "        self.totalEnergyPerBaryon = self.raw_data[4] # MeV\n",
    "        self.totalEnergyDensity = self.raw_data[4] # MeV fm^-3\n",
    "        self.restMassDensity = self.raw_data[1] * self.neutron_mass # MeV fm^-3\n",
    "\n",
    "        # the following is in code units (c = G = Msun = 1). Code units are depicted with cu\n",
    "        self.pressure_cu = self.raw_data[3] * 2.88e-6\n",
    "        # self.totalEnergyPerBaryon_cu = self.raw_data[4]\n",
    "        self.totalEnergyDensity_cu = self.raw_data[4] * 2.88e-6\n",
    "        self.restMassDensity_cu = self.raw_data[1] * self.neutron_mass * 2.886e-6\n",
    "        self.amtEntries = len(self.pressure)\n",
    "\n",
    "    def get_restMassDensity(self, pressure):\n",
    "        # the pressure array has the increasing values, so we only have to find the index where it is first smaller than the current array entry\n",
    "        for i in range(self.amtEntries):\n",
    "            currVal = self.pressure_cu[i]\n",
    "            if pressure < currVal:\n",
    "                return self.restMassDensity_cu[i] # TODO here I should be interpolating between the neirest neighbors\n",
    "        pass\n",
    "\n",
    "    def get_totalEnergyDensity(self, pressure):\n",
    "        # the pressure array has the increasing values, so we only have to find the index where it is first smaller than the current array entry\n",
    "        for i in range(self.amtEntries):\n",
    "            currVal = self.pressure_cu[i]\n",
    "            if pressure < currVal:\n",
    "                return self.totalEnergyDensity_cu[i] # TODO here I should be interpolating between the neirest neighbors\n",
    "        pass"
   ]
  },
  {
   "cell_type": "markdown",
   "metadata": {},
   "source": [
    "# Getting to work: solving the equations\n",
    "\n",
    "The following section includes the code to solve the modified TOV equation and perform the shooting procedure in order to obtain the frequency for the scalar field."
   ]
  },
  {
   "cell_type": "code",
   "execution_count": 72,
   "metadata": {},
   "outputs": [],
   "source": [
    "import numpy as np\n",
    "from scipy.integrate import solve_ivp # I use solve_ivp instead of odeint. odeint might be faster, but solve_ivp allows to specify the used integration method\n",
    "from scipy.optimize import fsolve # used to find the eigenvalue omega (i.e. carrying out the shooting method)\n",
    "import matplotlib.pyplot as plt\n",
    "\n",
    "pi = np.pi\n",
    "mu = 1 # the mass of the bosonic field\n",
    "lam = 0 # the self-interaction parameter in the quartic coupling\n",
    "\n",
    "# the min and max radius between which the ODEs are solved\n",
    "minRadius = 1e-5\n",
    "maxRadius = 2000\n",
    "\n",
    "EoS_v = EoS(\"DD2\")\n",
    "EoS_v.load()\n",
    "\n",
    "# equation of state\n",
    "def EoS_polytrope_pressure(rho):\n",
    "    K = 100\n",
    "    gamma = 2\n",
    "    return K * rho**gamma\n",
    "\n",
    "def EoS_polytrope_rho(P):\n",
    "    K = 100\n",
    "    gamma = 2\n",
    "    return (P / K)**(1 / gamma)\n",
    "\n",
    "# this functions returns df/dr (we assume spherical symmetry in all components)\n",
    "def fun(r, y):\n",
    "    # using the same order and notation as in the paper\n",
    "    a = y[0] # this the radial factor in the metric\n",
    "    alpha = y[1] # this the time factor in the metric\n",
    "    phi = y[2] # this the field value of the bosonic field \n",
    "    psi = y[3] # this just the radial derivative of phi (= dphi/dr)\n",
    "    P = y[4] # this the pressure\n",
    "    omega = y[5] # I am cheating a bit by passing omega as one of the array components (not sure how to do it otherwise)\n",
    "\n",
    "    if(P < 0): # make sure that the pressure vanishes after we cross the surface (which is defined at P = 0)\n",
    "        P = 0\n",
    "\n",
    "    #rho = EoS_polytrope_rho(P)\n",
    "    rho = EoS_v.get_totalEnergyDensity(P)\n",
    "    epsilon = 0 # ???\n",
    "\n",
    "    dadr = a / 2 * ((1 - a*a) / r + 4 * pi * r * ((omega**2/alpha**2 + mu**2 + lam/2 * phi**2) * a**2 * phi**2 + psi**2 + 2 * a**2 * rho * (1 + epsilon)))\n",
    "    dalphadr = alpha / 2 * ((a*a - 1) / r + 4 * pi * r * ((omega**2/alpha**2 - mu**2 - lam/2 * phi**2) * a**2 * phi**2 + psi**2 + 2 * a**2 * P))\n",
    "    dphidr = psi\n",
    "    dpsidr = -(1 + a**2 - 4 * pi * r**2 * a**2 * (mu**2 * phi**2 + lam/2 * phi**4 + rho * (1 + epsilon) - P)) * psi / r - (omega**2 / alpha**2 - mu**2 - lam * phi**2) * a**2 * phi**2\n",
    "    dPdr = -(rho * (1 + epsilon) + P) * dalphadr / alpha\n",
    "\n",
    "    return [dadr, dalphadr, dphidr, dpsidr, dPdr, 0]\n",
    "\n",
    "# this returns a solution to the system of ODEs in terms of phic, rhoc and omega. This is not yet a physical solution though. We have to choose omega so that phic vanishes at infinity\n",
    "def getProtoSolution(phic, rhoc, omega):\n",
    "    # initial conditions\n",
    "    # a = 0, alpha = 0, phi = phi_c, psi = 0, p = K * rho_c^gamma, rho = rho_c (all quantities evaluated at r = 0)\n",
    "    ac = 1\n",
    "    alphac = 1  \n",
    "    psic = 0\n",
    "    Pc = EoS_polytrope_pressure(rhoc)\n",
    "    \n",
    "    r0 = minRadius\n",
    "    rmax = maxRadius\n",
    "\n",
    "    y0 = [ac, alphac, phic, psic, Pc, omega]\n",
    "    # rvals = np.linspace(r0, rmax, 100000)\n",
    "\n",
    "    return solve_ivp(fun, [r0, rmax], y0, atol = 1e-9, rtol = 1e-9)\n",
    "\n",
    "# here we take a proto solution and turn it into a physical one by finding the value of omega such that phi goes to 0 for large radii\n",
    "def getSolution(phic, rhoc):\n",
    "\n",
    "    res = [1.6]\n",
    "    \n",
    "    # I first solve for omega to maximize the possible radius (the ode solver just stops at some radii if a problem occurs and this way we (somewhat) guarantee that we actually solved up to rmax)\n",
    "    def root_rend(omega):\n",
    "        guess = getProtoSolution(phic, rhoc, omega[0])\n",
    "        rend = guess['t'][-1]\n",
    "        phiend = guess['y'][2][-1]\n",
    "        return rend - maxRadius\n",
    "\n",
    "    res = fsolve(root_rend, [abs(res[0])])\n",
    "    \n",
    "    # after maximizing the radius we bring phi at it as close to zero as possible to get the most accurate value for omega\n",
    "    def root_phiend(omega):\n",
    "        guess = getProtoSolution(phic, rhoc, omega[0])\n",
    "        rend = guess['t'][-1]\n",
    "        aend = guess['y'][0][-1]\n",
    "        alphaend = guess['y'][1][-1]\n",
    "        phiend = guess['y'][2][-1]\n",
    "        psiend = guess['y'][3][-1]\n",
    "        Pend = guess['y'][4][-1]\n",
    "\n",
    "        derivs = fun(rend, [aend, alphaend, phiend, psiend, Pend, omega])\n",
    "        dphienddr = derivs[2]\n",
    "\n",
    "        return abs(dphienddr) + abs(phiend)\n",
    "\n",
    "    res = fsolve(root_phiend, [abs(res[0])]) # this is the final value for omega\n",
    "    print(res)\n",
    "    return getProtoSolution(phic, rhoc, res[0])\n",
    "\n",
    "'''\n",
    "    def root_aalpha(omega):\n",
    "        guess = getProtoSolution(phic, rhoc, omega[0])\n",
    "        a = guess['y'][0][-1]\n",
    "        alpha = guess['y'][1][-1]\n",
    "        return a*alpha - 1\n",
    "    \n",
    "    res = fsolve(root_aalpha, [1]) # this is the final value for omega\n",
    "    print(res)\n",
    "'''\n",
    "\n",
    "# returns value for the fermion (NS) radius\n",
    "def getFermionRadius(solution):\n",
    "    P = solution['y'][4]\n",
    "    radii = solution['t']\n",
    "    minPressure = EoS_v.pressure_cu[0]\n",
    "\n",
    "    for i in range(len(radii)):\n",
    "        if P[i] < minPressure:\n",
    "            return radii[i] * 1.477 # the 1.477 convert the result to km (TODO check that the factor is correct)\n",
    "    pass\n",
    "\n",
    "# this is the >total< gravitational mass (fermions + bosons)\n",
    "def getGravitationalMass(solution):\n",
    "    aend = solution['y'][0][-1]\n",
    "    alphaend = solution['y'][1][-1]\n",
    "    rend = solution['t'][-1]\n",
    "\n",
    "    return rend / 2 * (1 - 1 / aend**2)"
   ]
  },
  {
   "cell_type": "code",
   "execution_count": 50,
   "metadata": {},
   "outputs": [
    {
     "ename": "KeyboardInterrupt",
     "evalue": "",
     "output_type": "error",
     "traceback": [
      "\u001b[1;31m---------------------------------------------------------------------------\u001b[0m",
      "\u001b[1;31mKeyboardInterrupt\u001b[0m                         Traceback (most recent call last)",
      "\u001b[1;32m~\\AppData\\Local\\Temp/ipykernel_23424/2401726131.py\u001b[0m in \u001b[0;36m<module>\u001b[1;34m\u001b[0m\n\u001b[0;32m      2\u001b[0m \u001b[0mrhoc\u001b[0m \u001b[1;33m=\u001b[0m \u001b[1;36m0.002\u001b[0m\u001b[1;33m\u001b[0m\u001b[1;33m\u001b[0m\u001b[0m\n\u001b[0;32m      3\u001b[0m \u001b[1;33m\u001b[0m\u001b[0m\n\u001b[1;32m----> 4\u001b[1;33m \u001b[0mz\u001b[0m \u001b[1;33m=\u001b[0m \u001b[0mgetSolution\u001b[0m\u001b[1;33m(\u001b[0m\u001b[1;36m0.003\u001b[0m\u001b[1;33m,\u001b[0m \u001b[1;36m0.002\u001b[0m\u001b[1;33m)\u001b[0m\u001b[1;33m\u001b[0m\u001b[1;33m\u001b[0m\u001b[0m\n\u001b[0m\u001b[0;32m      5\u001b[0m \u001b[1;31m#z = getProtoSolution(0.003, 0.002, 2.078)\u001b[0m\u001b[1;33m\u001b[0m\u001b[1;33m\u001b[0m\u001b[0m\n\u001b[0;32m      6\u001b[0m \u001b[1;33m\u001b[0m\u001b[0m\n",
      "\u001b[1;32m~\\AppData\\Local\\Temp/ipykernel_23424/2093399938.py\u001b[0m in \u001b[0;36mgetSolution\u001b[1;34m(phic, rhoc)\u001b[0m\n\u001b[0;32m     80\u001b[0m         \u001b[1;32mreturn\u001b[0m \u001b[0mrend\u001b[0m \u001b[1;33m-\u001b[0m \u001b[0mmaxRadius\u001b[0m\u001b[1;33m\u001b[0m\u001b[1;33m\u001b[0m\u001b[0m\n\u001b[0;32m     81\u001b[0m \u001b[1;33m\u001b[0m\u001b[0m\n\u001b[1;32m---> 82\u001b[1;33m     \u001b[0mres\u001b[0m \u001b[1;33m=\u001b[0m \u001b[0mfsolve\u001b[0m\u001b[1;33m(\u001b[0m\u001b[0mroot_rend\u001b[0m\u001b[1;33m,\u001b[0m \u001b[1;33m[\u001b[0m\u001b[0mabs\u001b[0m\u001b[1;33m(\u001b[0m\u001b[0mres\u001b[0m\u001b[1;33m[\u001b[0m\u001b[1;36m0\u001b[0m\u001b[1;33m]\u001b[0m\u001b[1;33m)\u001b[0m\u001b[1;33m]\u001b[0m\u001b[1;33m)\u001b[0m\u001b[1;33m\u001b[0m\u001b[1;33m\u001b[0m\u001b[0m\n\u001b[0m\u001b[0;32m     83\u001b[0m \u001b[1;33m\u001b[0m\u001b[0m\n\u001b[0;32m     84\u001b[0m     \u001b[1;31m# after maximizing the radius we bring phi at it as close to zero as possible to get the most accurate value for omega\u001b[0m\u001b[1;33m\u001b[0m\u001b[1;33m\u001b[0m\u001b[0m\n",
      "\u001b[1;32m~\\AppData\\Local\\Programs\\Python\\Python310\\lib\\site-packages\\scipy\\optimize\\minpack.py\u001b[0m in \u001b[0;36mfsolve\u001b[1;34m(func, x0, args, fprime, full_output, col_deriv, xtol, maxfev, band, epsfcn, factor, diag)\u001b[0m\n\u001b[0;32m    158\u001b[0m                'diag': diag}\n\u001b[0;32m    159\u001b[0m \u001b[1;33m\u001b[0m\u001b[0m\n\u001b[1;32m--> 160\u001b[1;33m     \u001b[0mres\u001b[0m \u001b[1;33m=\u001b[0m \u001b[0m_root_hybr\u001b[0m\u001b[1;33m(\u001b[0m\u001b[0mfunc\u001b[0m\u001b[1;33m,\u001b[0m \u001b[0mx0\u001b[0m\u001b[1;33m,\u001b[0m \u001b[0margs\u001b[0m\u001b[1;33m,\u001b[0m \u001b[0mjac\u001b[0m\u001b[1;33m=\u001b[0m\u001b[0mfprime\u001b[0m\u001b[1;33m,\u001b[0m \u001b[1;33m**\u001b[0m\u001b[0moptions\u001b[0m\u001b[1;33m)\u001b[0m\u001b[1;33m\u001b[0m\u001b[1;33m\u001b[0m\u001b[0m\n\u001b[0m\u001b[0;32m    161\u001b[0m     \u001b[1;32mif\u001b[0m \u001b[0mfull_output\u001b[0m\u001b[1;33m:\u001b[0m\u001b[1;33m\u001b[0m\u001b[1;33m\u001b[0m\u001b[0m\n\u001b[0;32m    162\u001b[0m         \u001b[0mx\u001b[0m \u001b[1;33m=\u001b[0m \u001b[0mres\u001b[0m\u001b[1;33m[\u001b[0m\u001b[1;34m'x'\u001b[0m\u001b[1;33m]\u001b[0m\u001b[1;33m\u001b[0m\u001b[1;33m\u001b[0m\u001b[0m\n",
      "\u001b[1;32m~\\AppData\\Local\\Programs\\Python\\Python310\\lib\\site-packages\\scipy\\optimize\\minpack.py\u001b[0m in \u001b[0;36m_root_hybr\u001b[1;34m(func, x0, args, jac, col_deriv, xtol, maxfev, band, eps, factor, diag, **unknown_options)\u001b[0m\n\u001b[0;32m    235\u001b[0m         \u001b[1;32mif\u001b[0m \u001b[0mmaxfev\u001b[0m \u001b[1;33m==\u001b[0m \u001b[1;36m0\u001b[0m\u001b[1;33m:\u001b[0m\u001b[1;33m\u001b[0m\u001b[1;33m\u001b[0m\u001b[0m\n\u001b[0;32m    236\u001b[0m             \u001b[0mmaxfev\u001b[0m \u001b[1;33m=\u001b[0m \u001b[1;36m200\u001b[0m \u001b[1;33m*\u001b[0m \u001b[1;33m(\u001b[0m\u001b[0mn\u001b[0m \u001b[1;33m+\u001b[0m \u001b[1;36m1\u001b[0m\u001b[1;33m)\u001b[0m\u001b[1;33m\u001b[0m\u001b[1;33m\u001b[0m\u001b[0m\n\u001b[1;32m--> 237\u001b[1;33m         retval = _minpack._hybrd(func, x0, args, 1, xtol, maxfev,\n\u001b[0m\u001b[0;32m    238\u001b[0m                                  ml, mu, epsfcn, factor, diag)\n\u001b[0;32m    239\u001b[0m     \u001b[1;32melse\u001b[0m\u001b[1;33m:\u001b[0m\u001b[1;33m\u001b[0m\u001b[1;33m\u001b[0m\u001b[0m\n",
      "\u001b[1;32m~\\AppData\\Local\\Temp/ipykernel_23424/2093399938.py\u001b[0m in \u001b[0;36mroot_rend\u001b[1;34m(omega)\u001b[0m\n\u001b[0;32m     75\u001b[0m     \u001b[1;31m# I first solve for omega to maximize the possible radius (the ode solver just stops at some radii if a problem occurs and this way we (somewhat) guarantee that we actually solved up to rmax)\u001b[0m\u001b[1;33m\u001b[0m\u001b[1;33m\u001b[0m\u001b[0m\n\u001b[0;32m     76\u001b[0m     \u001b[1;32mdef\u001b[0m \u001b[0mroot_rend\u001b[0m\u001b[1;33m(\u001b[0m\u001b[0momega\u001b[0m\u001b[1;33m)\u001b[0m\u001b[1;33m:\u001b[0m\u001b[1;33m\u001b[0m\u001b[1;33m\u001b[0m\u001b[0m\n\u001b[1;32m---> 77\u001b[1;33m         \u001b[0mguess\u001b[0m \u001b[1;33m=\u001b[0m \u001b[0mgetProtoSolution\u001b[0m\u001b[1;33m(\u001b[0m\u001b[0mphic\u001b[0m\u001b[1;33m,\u001b[0m \u001b[0mrhoc\u001b[0m\u001b[1;33m,\u001b[0m \u001b[0momega\u001b[0m\u001b[1;33m[\u001b[0m\u001b[1;36m0\u001b[0m\u001b[1;33m]\u001b[0m\u001b[1;33m)\u001b[0m\u001b[1;33m\u001b[0m\u001b[1;33m\u001b[0m\u001b[0m\n\u001b[0m\u001b[0;32m     78\u001b[0m         \u001b[0mrend\u001b[0m \u001b[1;33m=\u001b[0m \u001b[0mguess\u001b[0m\u001b[1;33m[\u001b[0m\u001b[1;34m't'\u001b[0m\u001b[1;33m]\u001b[0m\u001b[1;33m[\u001b[0m\u001b[1;33m-\u001b[0m\u001b[1;36m1\u001b[0m\u001b[1;33m]\u001b[0m\u001b[1;33m\u001b[0m\u001b[1;33m\u001b[0m\u001b[0m\n\u001b[0;32m     79\u001b[0m         \u001b[0mphiend\u001b[0m \u001b[1;33m=\u001b[0m \u001b[0mguess\u001b[0m\u001b[1;33m[\u001b[0m\u001b[1;34m'y'\u001b[0m\u001b[1;33m]\u001b[0m\u001b[1;33m[\u001b[0m\u001b[1;36m2\u001b[0m\u001b[1;33m]\u001b[0m\u001b[1;33m[\u001b[0m\u001b[1;33m-\u001b[0m\u001b[1;36m1\u001b[0m\u001b[1;33m]\u001b[0m\u001b[1;33m\u001b[0m\u001b[1;33m\u001b[0m\u001b[0m\n",
      "\u001b[1;32m~\\AppData\\Local\\Temp/ipykernel_23424/2093399938.py\u001b[0m in \u001b[0;36mgetProtoSolution\u001b[1;34m(phic, rhoc, omega)\u001b[0m\n\u001b[0;32m     66\u001b[0m     \u001b[1;31m# rvals = np.linspace(r0, rmax, 100000)\u001b[0m\u001b[1;33m\u001b[0m\u001b[1;33m\u001b[0m\u001b[0m\n\u001b[0;32m     67\u001b[0m \u001b[1;33m\u001b[0m\u001b[0m\n\u001b[1;32m---> 68\u001b[1;33m     \u001b[1;32mreturn\u001b[0m \u001b[0msolve_ivp\u001b[0m\u001b[1;33m(\u001b[0m\u001b[0mfun\u001b[0m\u001b[1;33m,\u001b[0m \u001b[1;33m[\u001b[0m\u001b[0mr0\u001b[0m\u001b[1;33m,\u001b[0m \u001b[0mrmax\u001b[0m\u001b[1;33m]\u001b[0m\u001b[1;33m,\u001b[0m \u001b[0my0\u001b[0m\u001b[1;33m,\u001b[0m \u001b[0matol\u001b[0m \u001b[1;33m=\u001b[0m \u001b[1;36m1e-9\u001b[0m\u001b[1;33m,\u001b[0m \u001b[0mrtol\u001b[0m \u001b[1;33m=\u001b[0m \u001b[1;36m1e-9\u001b[0m\u001b[1;33m)\u001b[0m\u001b[1;33m\u001b[0m\u001b[1;33m\u001b[0m\u001b[0m\n\u001b[0m\u001b[0;32m     69\u001b[0m \u001b[1;33m\u001b[0m\u001b[0m\n\u001b[0;32m     70\u001b[0m \u001b[1;31m# here we take a proto solution and turn it into a physical one by finding the value of omega such that phi goes to 0 for large radii\u001b[0m\u001b[1;33m\u001b[0m\u001b[1;33m\u001b[0m\u001b[0m\n",
      "\u001b[1;32m~\\AppData\\Local\\Programs\\Python\\Python310\\lib\\site-packages\\scipy\\integrate\\_ivp\\ivp.py\u001b[0m in \u001b[0;36msolve_ivp\u001b[1;34m(fun, t_span, y0, method, t_eval, dense_output, events, vectorized, args, **options)\u001b[0m\n\u001b[0;32m    574\u001b[0m     \u001b[0mstatus\u001b[0m \u001b[1;33m=\u001b[0m \u001b[1;32mNone\u001b[0m\u001b[1;33m\u001b[0m\u001b[1;33m\u001b[0m\u001b[0m\n\u001b[0;32m    575\u001b[0m     \u001b[1;32mwhile\u001b[0m \u001b[0mstatus\u001b[0m \u001b[1;32mis\u001b[0m \u001b[1;32mNone\u001b[0m\u001b[1;33m:\u001b[0m\u001b[1;33m\u001b[0m\u001b[1;33m\u001b[0m\u001b[0m\n\u001b[1;32m--> 576\u001b[1;33m         \u001b[0mmessage\u001b[0m \u001b[1;33m=\u001b[0m \u001b[0msolver\u001b[0m\u001b[1;33m.\u001b[0m\u001b[0mstep\u001b[0m\u001b[1;33m(\u001b[0m\u001b[1;33m)\u001b[0m\u001b[1;33m\u001b[0m\u001b[1;33m\u001b[0m\u001b[0m\n\u001b[0m\u001b[0;32m    577\u001b[0m \u001b[1;33m\u001b[0m\u001b[0m\n\u001b[0;32m    578\u001b[0m         \u001b[1;32mif\u001b[0m \u001b[0msolver\u001b[0m\u001b[1;33m.\u001b[0m\u001b[0mstatus\u001b[0m \u001b[1;33m==\u001b[0m \u001b[1;34m'finished'\u001b[0m\u001b[1;33m:\u001b[0m\u001b[1;33m\u001b[0m\u001b[1;33m\u001b[0m\u001b[0m\n",
      "\u001b[1;32m~\\AppData\\Local\\Programs\\Python\\Python310\\lib\\site-packages\\scipy\\integrate\\_ivp\\base.py\u001b[0m in \u001b[0;36mstep\u001b[1;34m(self)\u001b[0m\n\u001b[0;32m    179\u001b[0m         \u001b[1;32melse\u001b[0m\u001b[1;33m:\u001b[0m\u001b[1;33m\u001b[0m\u001b[1;33m\u001b[0m\u001b[0m\n\u001b[0;32m    180\u001b[0m             \u001b[0mt\u001b[0m \u001b[1;33m=\u001b[0m \u001b[0mself\u001b[0m\u001b[1;33m.\u001b[0m\u001b[0mt\u001b[0m\u001b[1;33m\u001b[0m\u001b[1;33m\u001b[0m\u001b[0m\n\u001b[1;32m--> 181\u001b[1;33m             \u001b[0msuccess\u001b[0m\u001b[1;33m,\u001b[0m \u001b[0mmessage\u001b[0m \u001b[1;33m=\u001b[0m \u001b[0mself\u001b[0m\u001b[1;33m.\u001b[0m\u001b[0m_step_impl\u001b[0m\u001b[1;33m(\u001b[0m\u001b[1;33m)\u001b[0m\u001b[1;33m\u001b[0m\u001b[1;33m\u001b[0m\u001b[0m\n\u001b[0m\u001b[0;32m    182\u001b[0m \u001b[1;33m\u001b[0m\u001b[0m\n\u001b[0;32m    183\u001b[0m             \u001b[1;32mif\u001b[0m \u001b[1;32mnot\u001b[0m \u001b[0msuccess\u001b[0m\u001b[1;33m:\u001b[0m\u001b[1;33m\u001b[0m\u001b[1;33m\u001b[0m\u001b[0m\n",
      "\u001b[1;32m~\\AppData\\Local\\Programs\\Python\\Python310\\lib\\site-packages\\scipy\\integrate\\_ivp\\rk.py\u001b[0m in \u001b[0;36m_step_impl\u001b[1;34m(self)\u001b[0m\n\u001b[0;32m    142\u001b[0m             \u001b[0mh_abs\u001b[0m \u001b[1;33m=\u001b[0m \u001b[0mnp\u001b[0m\u001b[1;33m.\u001b[0m\u001b[0mabs\u001b[0m\u001b[1;33m(\u001b[0m\u001b[0mh\u001b[0m\u001b[1;33m)\u001b[0m\u001b[1;33m\u001b[0m\u001b[1;33m\u001b[0m\u001b[0m\n\u001b[0;32m    143\u001b[0m \u001b[1;33m\u001b[0m\u001b[0m\n\u001b[1;32m--> 144\u001b[1;33m             y_new, f_new = rk_step(self.fun, t, y, self.f, h, self.A,\n\u001b[0m\u001b[0;32m    145\u001b[0m                                    self.B, self.C, self.K)\n\u001b[0;32m    146\u001b[0m             \u001b[0mscale\u001b[0m \u001b[1;33m=\u001b[0m \u001b[0matol\u001b[0m \u001b[1;33m+\u001b[0m \u001b[0mnp\u001b[0m\u001b[1;33m.\u001b[0m\u001b[0mmaximum\u001b[0m\u001b[1;33m(\u001b[0m\u001b[0mnp\u001b[0m\u001b[1;33m.\u001b[0m\u001b[0mabs\u001b[0m\u001b[1;33m(\u001b[0m\u001b[0my\u001b[0m\u001b[1;33m)\u001b[0m\u001b[1;33m,\u001b[0m \u001b[0mnp\u001b[0m\u001b[1;33m.\u001b[0m\u001b[0mabs\u001b[0m\u001b[1;33m(\u001b[0m\u001b[0my_new\u001b[0m\u001b[1;33m)\u001b[0m\u001b[1;33m)\u001b[0m \u001b[1;33m*\u001b[0m \u001b[0mrtol\u001b[0m\u001b[1;33m\u001b[0m\u001b[1;33m\u001b[0m\u001b[0m\n",
      "\u001b[1;32m~\\AppData\\Local\\Programs\\Python\\Python310\\lib\\site-packages\\scipy\\integrate\\_ivp\\rk.py\u001b[0m in \u001b[0;36mrk_step\u001b[1;34m(fun, t, y, f, h, A, B, C, K)\u001b[0m\n\u001b[0;32m     64\u001b[0m         \u001b[0mK\u001b[0m\u001b[1;33m[\u001b[0m\u001b[0ms\u001b[0m\u001b[1;33m]\u001b[0m \u001b[1;33m=\u001b[0m \u001b[0mfun\u001b[0m\u001b[1;33m(\u001b[0m\u001b[0mt\u001b[0m \u001b[1;33m+\u001b[0m \u001b[0mc\u001b[0m \u001b[1;33m*\u001b[0m \u001b[0mh\u001b[0m\u001b[1;33m,\u001b[0m \u001b[0my\u001b[0m \u001b[1;33m+\u001b[0m \u001b[0mdy\u001b[0m\u001b[1;33m)\u001b[0m\u001b[1;33m\u001b[0m\u001b[1;33m\u001b[0m\u001b[0m\n\u001b[0;32m     65\u001b[0m \u001b[1;33m\u001b[0m\u001b[0m\n\u001b[1;32m---> 66\u001b[1;33m     \u001b[0my_new\u001b[0m \u001b[1;33m=\u001b[0m \u001b[0my\u001b[0m \u001b[1;33m+\u001b[0m \u001b[0mh\u001b[0m \u001b[1;33m*\u001b[0m \u001b[0mnp\u001b[0m\u001b[1;33m.\u001b[0m\u001b[0mdot\u001b[0m\u001b[1;33m(\u001b[0m\u001b[0mK\u001b[0m\u001b[1;33m[\u001b[0m\u001b[1;33m:\u001b[0m\u001b[1;33m-\u001b[0m\u001b[1;36m1\u001b[0m\u001b[1;33m]\u001b[0m\u001b[1;33m.\u001b[0m\u001b[0mT\u001b[0m\u001b[1;33m,\u001b[0m \u001b[0mB\u001b[0m\u001b[1;33m)\u001b[0m\u001b[1;33m\u001b[0m\u001b[1;33m\u001b[0m\u001b[0m\n\u001b[0m\u001b[0;32m     67\u001b[0m     \u001b[0mf_new\u001b[0m \u001b[1;33m=\u001b[0m \u001b[0mfun\u001b[0m\u001b[1;33m(\u001b[0m\u001b[0mt\u001b[0m \u001b[1;33m+\u001b[0m \u001b[0mh\u001b[0m\u001b[1;33m,\u001b[0m \u001b[0my_new\u001b[0m\u001b[1;33m)\u001b[0m\u001b[1;33m\u001b[0m\u001b[1;33m\u001b[0m\u001b[0m\n\u001b[0;32m     68\u001b[0m \u001b[1;33m\u001b[0m\u001b[0m\n",
      "\u001b[1;32m<__array_function__ internals>\u001b[0m in \u001b[0;36mdot\u001b[1;34m(*args, **kwargs)\u001b[0m\n",
      "\u001b[1;31mKeyboardInterrupt\u001b[0m: "
     ]
    }
   ],
   "source": [
    "phic = 0.000\n",
    "rhoc = 0.002\n",
    "\n",
    "z = getSolution(0.003, 0.002)\n",
    "#z = getProtoSolution(0.003, 0.002, 2.078)\n",
    "\n",
    "\n",
    "print(getFermionRadius(z))\n",
    "print(getGravitationalMass(z))\n",
    "\n",
    "plt.plot(z['t'], z['y'][4])\n",
    "plt.plot(z['t'], EoS_polytrope_rho(z['y'][4]))\n",
    "plt.xlim([0, 10])\n",
    "plt.show()\n",
    "\n",
    "\n",
    "plt.plot(z['t'], z['y'][2])\n",
    "plt.show()\n",
    "\n",
    "plt.plot(z['t'], z['y'][0])\n",
    "\n",
    "plt.plot(z['t'], z['y'][1])\n",
    "plt.show()\n",
    "plt.plot(z['t'], z['y'][2])\n",
    "'''\n",
    "z = getProtoSolution(0, rhoc, 1.65)\n",
    "print(z['success'])\n",
    "plt.plot(z['t'], EoS_polytrope_rho(z['y'][4]))\n",
    "plt.ylim([0, 0.003])\n",
    "plt.show()\n",
    "\n",
    "plt.plot(testValues, maxRadius)\n",
    "plt.show()\n",
    "\n",
    "plt.plot(testValues, maxVal)\n",
    "plt.show()\n",
    "'''"
   ]
  },
  {
   "cell_type": "code",
   "execution_count": 47,
   "metadata": {},
   "outputs": [
    {
     "data": {
      "text/plain": [
       "array([2.88e-06, 2.88e-06, 2.88e-06, ..., 2.88e-06, 2.88e-06, 2.88e-06])"
      ]
     },
     "execution_count": 47,
     "metadata": {},
     "output_type": "execute_result"
    }
   ],
   "source": [
    "DD2EoS.totalEnergyDensity_cu"
   ]
  },
  {
   "cell_type": "code",
   "execution_count": 77,
   "metadata": {},
   "outputs": [
    {
     "name": "stdout",
     "output_type": "stream",
     "text": [
      "18.513814158982612\n",
      "0.17273166534559348\n"
     ]
    },
    {
     "data": {
      "image/png": "[encoded data removed]",
      "text/plain": [
       "<Figure size 432x288 with 1 Axes>"
      ]
     },
     "metadata": {
      "needs_background": "light"
     },
     "output_type": "display_data"
    }
   ],
   "source": [
    "z = getProtoSolution(phic = 0, rhoc = 0.0002, omega = 0)\n",
    "\n",
    "print(getFermionRadius(z))\n",
    "print(getGravitationalMass(z))\n",
    "\n",
    "temp = [EoS_v.get_totalEnergyDensity(val) for val in z['y'][4]]\n",
    "plt.plot(z['t'], temp)\n",
    "plt.xlim([0, 20])\n",
    "plt.show()"
   ]
  },
  {
   "cell_type": "code",
   "execution_count": 91,
   "metadata": {},
   "outputs": [],
   "source": [
    "rhomin = 0.0002\n",
    "rhomax = 0.0004\n",
    "rhoamt = 10\n",
    "\n",
    "sampeVals = np.linspace(rhomin, rhomax, rhoamt)\n",
    "\n",
    "\n",
    "#massVals = []\n",
    "#radVals = []\n"
   ]
  },
  {
   "cell_type": "code",
   "execution_count": 92,
   "metadata": {},
   "outputs": [
    {
     "name": "stdout",
     "output_type": "stream",
     "text": [
      "Finished 0.0002\n",
      "Finished 0.00022222222222222223\n",
      "Finished 0.0002444444444444445\n",
      "Finished 0.0002666666666666667\n",
      "Finished 0.0002888888888888889\n",
      "Finished 0.0003111111111111111\n",
      "Finished 0.0003333333333333334\n",
      "Finished 0.00035555555555555557\n",
      "Finished 0.00037777777777777777\n",
      "Finished 0.0004\n"
     ]
    },
    {
     "data": {
      "text/plain": [
       "(0.0, 3.0)"
      ]
     },
     "execution_count": 92,
     "metadata": {},
     "output_type": "execute_result"
    },
    {
     "data": {
      "image/png": "[encoded data removed]",
      "text/plain": [
       "<Figure size 432x288 with 1 Axes>"
      ]
     },
     "metadata": {
      "needs_background": "light"
     },
     "output_type": "display_data"
    }
   ],
   "source": [
    "for val in sampeVals:\n",
    "    sol = getProtoSolution(0, val, 0)\n",
    "\n",
    "    mass = getGravitationalMass(sol)\n",
    "    rad = getFermionRadius(sol)\n",
    "\n",
    "    massVals.append(mass)\n",
    "    radVals.append(rad)\n",
    "    \n",
    "    print(\"Finished\", val)\n",
    "\n",
    "plt.scatter(radVals, massVals)\n",
    "plt.xlim([0, 20])\n",
    "plt.ylim([0, 3])"
   ]
  },
  {
   "cell_type": "code",
   "execution_count": 42,
   "metadata": {},
   "outputs": [
    {
     "name": "stdout",
     "output_type": "stream",
     "text": [
      "[1.83684207]\n",
      "[3.60539615]\n",
      "[5.63252567]\n",
      "[7.90974827]\n",
      "[10.43747457]\n",
      "[13.21791928]\n",
      "[16.25364246]\n",
      "[19.5471326]\n",
      "[23.10068006]\n",
      "[26.91637371]\n"
     ]
    },
    {
     "data": {
      "text/plain": [
       "(0.0, 3.0)"
      ]
     },
     "execution_count": 42,
     "metadata": {},
     "output_type": "execute_result"
    },
    {
     "data": {
      "image/png": "[encoded data removed]",
      "text/plain": [
       "<Figure size 432x288 with 1 Axes>"
      ]
     },
     "metadata": {
      "needs_background": "light"
     },
     "output_type": "display_data"
    }
   ],
   "source": [
    "rhomin = 0.000002\n",
    "rhomax = 0.02\n",
    "rhoamt = 10\n",
    "\n",
    "sampeVals = np.linspace(rhomin, rhomax, rhoamt)\n",
    "\n",
    "massVals = []\n",
    "radVals = []\n",
    "\n",
    "for val in sampeVals:\n",
    "    sol = getSolution(0.000002, val)\n",
    "\n",
    "    mass = getGravitationalMass(sol)\n",
    "    rad = getFermionRadius(sol)\n",
    "\n",
    "    massVals.append(mass)\n",
    "    radVals.append(rad)\n",
    "\n",
    "plt.scatter(radVals, massVals)\n",
    "plt.xlim([0, 20])\n",
    "plt.ylim([0, 3])"
   ]
  },
  {
   "cell_type": "code",
   "execution_count": 107,
   "metadata": {},
   "outputs": [
    {
     "name": "stdout",
     "output_type": "stream",
     "text": [
      "(0.17273166534559348, 18.513814158982612)\n"
     ]
    },
    {
     "ename": "ValueError",
     "evalue": "not enough values to unpack (expected 2, got 0)",
     "output_type": "error",
     "traceback": [
      "\u001b[1;31m---------------------------------------------------------------------------\u001b[0m",
      "\u001b[1;31mValueError\u001b[0m                                Traceback (most recent call last)",
      "\u001b[1;32m~\\AppData\\Local\\Temp/ipykernel_23424/2723127764.py\u001b[0m in \u001b[0;36m<module>\u001b[1;34m\u001b[0m\n\u001b[0;32m     10\u001b[0m \u001b[0mtuples\u001b[0m \u001b[1;33m=\u001b[0m \u001b[0mzip\u001b[0m\u001b[1;33m(\u001b[0m\u001b[1;33m*\u001b[0m\u001b[0msorted_pairs\u001b[0m\u001b[1;33m)\u001b[0m\u001b[1;33m\u001b[0m\u001b[1;33m\u001b[0m\u001b[0m\n\u001b[0;32m     11\u001b[0m \u001b[1;33m\u001b[0m\u001b[0m\n\u001b[1;32m---> 12\u001b[1;33m \u001b[0mlist1\u001b[0m\u001b[1;33m,\u001b[0m \u001b[0mlist2\u001b[0m \u001b[1;33m=\u001b[0m \u001b[1;33m[\u001b[0m \u001b[0mlist\u001b[0m\u001b[1;33m(\u001b[0m\u001b[0mtuple\u001b[0m\u001b[1;33m)\u001b[0m \u001b[1;32mfor\u001b[0m \u001b[0mtuple\u001b[0m \u001b[1;32min\u001b[0m  \u001b[0mtuples\u001b[0m\u001b[1;33m]\u001b[0m\u001b[1;33m\u001b[0m\u001b[1;33m\u001b[0m\u001b[0m\n\u001b[0m\u001b[0;32m     13\u001b[0m \u001b[1;33m\u001b[0m\u001b[0m\n\u001b[0;32m     14\u001b[0m \u001b[0mplt\u001b[0m\u001b[1;33m.\u001b[0m\u001b[0mplot\u001b[0m\u001b[1;33m(\u001b[0m\u001b[0mlist2\u001b[0m\u001b[1;33m,\u001b[0m \u001b[0mlist1\u001b[0m\u001b[1;33m)\u001b[0m\u001b[1;33m\u001b[0m\u001b[1;33m\u001b[0m\u001b[0m\n",
      "\u001b[1;31mValueError\u001b[0m: not enough values to unpack (expected 2, got 0)"
     ]
    }
   ],
   "source": [
    "maxMass = max(massVals)\n",
    "maxMassIndex = massVals.index(maxMass)\n",
    "maxRadius = radVals[maxMassIndex]\n",
    "\n",
    "\n",
    "zipped_lists = zip(massVals, radVals)\n",
    "\n",
    "print(list(zipped_lists)[0])\n",
    "sorted_pairs = sorted(zipped_lists)\n",
    "tuples = zip(*sorted_pairs)\n",
    "\n",
    "list1, list2 = [ list(tuple) for tuple in  tuples]\n",
    "\n",
    "plt.plot(list2, list1)\n",
    "plt.xlim([0, 20])\n",
    "plt.ylim([0, 3])"
   ]
  },
  {
   "cell_type": "code",
   "execution_count": 126,
   "metadata": {},
   "outputs": [
    {
     "name": "stdout",
     "output_type": "stream",
     "text": [
      "[(0.17273166534559348, 18.513814158982612), (0.17273166534559348, 18.513814158982612), (0.17273166534559348, 18.513814158982612), (0.1951826675833379, 17.533813209681334), (0.21855296739747843, 16.051349282334506), (0.2428192128902662, 15.959538384336314), (0.26796428323261345, 15.00752188278811), (0.29411371280341214, 14.187785996526355), (0.3211556452297204, 13.830025076503318), (0.34906725557981577, 14.105134049252007), (0.3777117071349645, 13.886199161041764), (0.40721346211980425, 13.84804279247939), (0.40721346211980425, 13.84804279247939), (0.40721346211980425, 13.84804279247939), (0.6952959490896804, 13.011909327726631), (0.6952960141222153, 13.159605312619785), (0.9937585043336972, 13.052548789252988), (0.9937585043336972, 13.052548789252988), (1.27213106651769, 13.458634571803161), (1.27213106651769, 13.458634571803161), (1.5159505592369227, 13.457644277255394), (1.5159505592369227, 13.457644277255394), (1.7212270997613022, 13.495735675058516), (1.7212271009068303, 13.47851761524179), (1.8897329066136503, 13.363456225894328), (1.8897329066136503, 13.363456225894328), (2.025481691873332, 13.354545980971194), (2.0254817023238614, 13.344200150335968), (2.133285789820527, 13.22835041657716), (2.133285789820527, 13.22835041657716), (2.2178502959486757, 13.047163050374936), (2.283282095279171, 12.913844118061276), (2.332998834143951, 12.83592577979225), (2.3700409629210384, 12.659760186805427), (2.3967654105793157, 12.521271047742099), (2.4152409651303497, 12.436511954306143), (2.4269477329943445, 12.246637464945689), (2.4332587701721975, 12.121448062971593), (2.4351986875904563, 12.054962197520661)]\n"
     ]
    },
    {
     "data": {
      "text/plain": [
       "([<matplotlib.axis.YTick at 0x204efe28e80>,\n",
       "  <matplotlib.axis.YTick at 0x204efe28d90>,\n",
       "  <matplotlib.axis.YTick at 0x204efe2b4f0>,\n",
       "  <matplotlib.axis.YTick at 0x204efde6020>,\n",
       "  <matplotlib.axis.YTick at 0x204efde75b0>,\n",
       "  <matplotlib.axis.YTick at 0x204efde5c60>,\n",
       "  <matplotlib.axis.YTick at 0x204efde4d00>,\n",
       "  <matplotlib.axis.YTick at 0x204efde6890>,\n",
       "  <matplotlib.axis.YTick at 0x204f3370310>,\n",
       "  <matplotlib.axis.YTick at 0x204f3370ca0>,\n",
       "  <matplotlib.axis.YTick at 0x204f3370ee0>,\n",
       "  <matplotlib.axis.YTick at 0x204f3371270>,\n",
       "  <matplotlib.axis.YTick at 0x204efde7c10>,\n",
       "  <matplotlib.axis.YTick at 0x204f33738e0>],\n",
       " [Text(0, 0, ''),\n",
       "  Text(0, 0, ''),\n",
       "  Text(0, 0, ''),\n",
       "  Text(0, 0, ''),\n",
       "  Text(0, 0, ''),\n",
       "  Text(0, 0, ''),\n",
       "  Text(0, 0, ''),\n",
       "  Text(0, 0, ''),\n",
       "  Text(0, 0, ''),\n",
       "  Text(0, 0, ''),\n",
       "  Text(0, 0, ''),\n",
       "  Text(0, 0, ''),\n",
       "  Text(0, 0, ''),\n",
       "  Text(0, 0, '')])"
      ]
     },
     "execution_count": 126,
     "metadata": {},
     "output_type": "execute_result"
    },
    {
     "data": {
      "image/png": "[encoded data removed]",
      "text/plain": [
       "<Figure size 432x288 with 1 Axes>"
      ]
     },
     "metadata": {
      "needs_background": "light"
     },
     "output_type": "display_data"
    }
   ],
   "source": [
    "zipped_lists = zip(massVals, radVals)\n",
    "\n",
    "\n",
    "zipped_lists = list(zipped_lists)\n",
    "\n",
    "removeVals = []\n",
    "for val in zipped_lists:\n",
    "    if val[1] < maxRadius:\n",
    "        removeVals.append(val)\n",
    "\n",
    "for val in removeVals:\n",
    "    zipped_lists.remove(val)\n",
    "\n",
    "sorted_pairs = sorted(zipped_lists)\n",
    "print(sorted_pairs)\n",
    "tuples = zip(*sorted_pairs)\n",
    "\n",
    "list1, list2 = [ list(tuple) for tuple in  tuples]\n",
    "\n",
    "f = plt.figure()\n",
    "plt.plot(list2, list1)\n",
    "plt.xlim([12, 16])\n",
    "plt.ylim([0.1, 2.7])\n",
    "plt.yticks(np.arange(0.2, 3.0, 0.2))\n",
    "\n",
    "        "
   ]
  },
  {
   "cell_type": "code",
   "execution_count": 13,
   "metadata": {},
   "outputs": [
    {
     "data": {
      "image/png": "[encoded data removed]",
      "text/plain": [
       "<Figure size 432x288 with 1 Axes>"
      ]
     },
     "metadata": {
      "needs_background": "light"
     },
     "output_type": "display_data"
    },
    {
     "data": {
      "image/png": "[encoded data removed]",
      "text/plain": [
       "<Figure size 432x288 with 1 Axes>"
      ]
     },
     "metadata": {
      "needs_background": "light"
     },
     "output_type": "display_data"
    },
    {
     "data": {
      "image/png": "[encoded data removed]",
      "text/plain": [
       "<Figure size 432x288 with 1 Axes>"
      ]
     },
     "metadata": {
      "needs_background": "light"
     },
     "output_type": "display_data"
    }
   ],
   "source": [
    "omegaMin = 0\n",
    "omegaMax = 17\n",
    "omegaAmt = 100\n",
    "\n",
    "sampleSpace = np.linspace(omegaMin, omegaMax, omegaAmt)\n",
    "\n",
    "rVals = []\n",
    "phiVals = []\n",
    "dphiVals = []\n",
    "\n",
    "for val in sampleSpace:\n",
    "    sol = getProtoSolution(0.0003, 0.002, val)\n",
    "    rend = sol['t'][-1]\n",
    "\n",
    "    aend = sol['y'][0][-1]\n",
    "    alphaend = sol['y'][1][-1]\n",
    "    phiend = sol['y'][2][-1]\n",
    "    psiend = sol['y'][3][-1]\n",
    "    Pend = sol['y'][4][-1]\n",
    "\n",
    "    derivs = fun(rend, [aend, alphaend, phiend, psiend, Pend, val])\n",
    "    dphienddr = derivs[2]\n",
    "\n",
    "    rVals.append(rend)\n",
    "    phiVals.append(phiend)\n",
    "    dphiVals.append(dphienddr)\n",
    "\n",
    "plt.plot(sampleSpace, rVals)\n",
    "plt.show()\n",
    "plt.plot(sampleSpace, phiVals)\n",
    "plt.show()\n",
    "plt.plot(sampleSpace, dphiVals)\n",
    "plt.show()"
   ]
  },
  {
   "cell_type": "code",
   "execution_count": 3,
   "metadata": {},
   "outputs": [
    {
     "data": {
      "text/plain": [
       "77832.20173777324"
      ]
     },
     "execution_count": 3,
     "metadata": {},
     "output_type": "execute_result"
    }
   ],
   "source": [
    "nb = 10\n",
    "epsilon = 8722.7855527773245\n",
    "tot = 87227.855527773238\n",
    "\n",
    "mneutron = 939.565379\n",
    "\n",
    "tot - mneutron * nb"
   ]
  },
  {
   "cell_type": "code",
   "execution_count": 9,
   "metadata": {},
   "outputs": [
    {
     "name": "stdout",
     "output_type": "stream",
     "text": [
      "(72, 0.001028281210511827, 0.0009937613485361367, 0.001)\n"
     ]
    },
    {
     "data": {
      "text/plain": [
       "4.434674541862474"
      ]
     },
     "execution_count": 9,
     "metadata": {},
     "output_type": "execute_result"
    }
   ],
   "source": [
    "import numpy as np\n",
    "\n",
    "class EoS:\n",
    "    neutron_mass = 939.565379 # MeV\n",
    "\n",
    "    def __init__(self, name):\n",
    "        self.name = name\n",
    "        self.load()\n",
    "    \n",
    "    def load(self):\n",
    "        self.raw_data = np.loadtxt(\"eos.table\").T\n",
    "\n",
    "        # the following is in compose units\n",
    "        self.baryonNumberDensity = self.raw_data[1] # fm^-3\n",
    "        self.pressure = self.raw_data[3] # MeV fm^-3\n",
    "        self.totalEnergyPerBaryon = self.raw_data[4] # MeV\n",
    "        self.totalEnergyDensity = self.raw_data[5] # MeV fm^-3\n",
    "        self.restMassDensity = self.raw_data[1] * self.neutron_mass # MeV fm^-3\n",
    "\n",
    "        # the following is in code units (c = G = Msun = 1). Code units are depicted with cu\n",
    "        self.pressure_cu = self.raw_data[3] * 2.88e-6\n",
    "        # self.totalEnergyPerBaryon_cu = self.raw_data[4]\n",
    "        self.totalEnergyDensity_cu = self.raw_data[5] * 2.88e-6\n",
    "        self.restMassDensity_cu = self.raw_data[1] * self.neutron_mass * 2.88e-6\n",
    "        self.amtEntries = len(self.pressure)\n",
    "\n",
    "    def get_restMassDensity(self, pressure):\n",
    "        # the pressure array has the increasing values, so we only have to find the index where it is first smaller than the current array entry\n",
    "        for i in range(self.amtEntries):\n",
    "            currVal = self.pressure_cu[i]\n",
    "            if pressure < currVal:\n",
    "                return self.restMassDensity_cu[i] # TODO here I should be interpolating between the neirest neighbors\n",
    "        pass\n",
    "\n",
    "    def get_totalEnergyDensity(self, pressure):\n",
    "        # the pressure array has the increasing values, so we only have to find the index where it is first smaller than the current array entry\n",
    "        for i in range(self.amtEntries):\n",
    "            currVal = self.pressure_cu[i]\n",
    "            if pressure < currVal:\n",
    "                return self.totalEnergyDensity_cu[i] # TODO here I should be interpolating between the neirest neighbors\n",
    "        pass\n",
    "\n",
    "yo = EoS(\"DD2\")\n",
    "yo.load()\n",
    "print(yo.get_restMassDensity(0.001))\n",
    "0.012 / 2.88e-6 / EoS.neutron_mass"
   ]
  }
 ],
 "metadata": {
  "interpreter": {
   "hash": "7a17b431f652000418fef3b7922af096b36fbe8da7ae379b8e58e0a1d7cf343c"
  },
  "kernelspec": {
   "display_name": "Python 3.10.0 64-bit",
   "language": "python",
   "name": "python3"
  },
  "language_info": {
   "codemirror_mode": {
    "name": "ipython",
    "version": 3
   },
   "file_extension": ".py",
   "mimetype": "text/x-python",
   "name": "python",
   "nbconvert_exporter": "python",
   "pygments_lexer": "ipython3",
   "version": "3.10.0"
  },
  "orig_nbformat": 4
 },
 "nbformat": 4,
 "nbformat_minor": 2
}
