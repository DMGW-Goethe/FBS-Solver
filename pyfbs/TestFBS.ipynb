{
 "cells": [
  {
   "cell_type": "code",
   "execution_count": null,
   "metadata": {},
   "outputs": [],
   "source": [
    "import numpy as np\n",
    "import matplotlib.pyplot as plt\n",
    "import pyfbs"
   ]
  },
  {
   "cell_type": "markdown",
   "metadata": {},
   "source": [
    "### Define parameters"
   ]
  },
  {
   "cell_type": "code",
   "execution_count": null,
   "metadata": {},
   "outputs": [],
   "source": [
    "eosDD2 = pyfbs.PyEoStable(\"/media/data/Documents/PhD/B09/B09/EOS_tables/eos_HS_DD2_with_electrons.beta\")\n",
    "#eosCausal = pyfbs.PyCausalEoS(1e-10)"
   ]
  },
  {
   "cell_type": "markdown",
   "metadata": {},
   "source": [
    "### Test single star integration"
   ]
  },
  {
   "cell_type": "code",
   "execution_count": null,
   "metadata": {},
   "outputs": [],
   "source": [
    "mu = 5\n",
    "lam = 0.\n",
    "rho_c =  0.004\n",
    "phi_c = 0.1"
   ]
  },
  {
   "cell_type": "code",
   "execution_count": null,
   "metadata": {},
   "outputs": [],
   "source": [
    "myFBS = pyfbs.PyFermionBosonStar.FromParameters(eosDD2, mu, lambda_=lam, rho_0=rho_c, phi_0=phi_c)\n",
    "myFBS.bisection(1., 10)\n",
    "myFBS.get()\n",
    "res = myFBS.evaluate_model()\n",
    "myFBS.get()"
   ]
  },
  {
   "cell_type": "code",
   "execution_count": null,
   "metadata": {},
   "outputs": [],
   "source": [
    "fig = plt.figure(figsize=(12,8)); ax = fig.gca()\n",
    "myFBS.plot(ax)\n",
    "r = res[:,0]\n",
    "M_T = r /2. * (1. - 1./res[:,1]**2)\n",
    "l, = ax.loglog(r, M_T, label='M_T')\n",
    "ax.axhline(myFBS.get()['M_T'], linestyle='--', color=l.get_c())\n",
    "ax.axvline(myFBS.get()['R_F'], linestyle='--')\n",
    "ax.set_xscale('log'); ax.set_yscale('log')\n",
    "ax.set_xlim(left=1e-3)\n",
    "ax.set_ylim(bottom=1e-16, top=1e5)\n",
    "ax.legend(); ax.grid()"
   ]
  },
  {
   "cell_type": "code",
   "execution_count": null,
   "metadata": {},
   "outputs": [],
   "source": [
    "myFBS = pyfbs.PyFermionBosonStarTLN.FromFBS(myFBS)\n",
    "myFBS.bisection_phi_1(1e-3 * phi_c, 1e5 * phi_c)\n",
    "res = myFBS.evaluate_model()\n",
    "myFBS.get()"
   ]
  },
  {
   "cell_type": "code",
   "execution_count": null,
   "metadata": {},
   "outputs": [],
   "source": [
    "fig = plt.figure(figsize=(12,8)); ax = fig.gca()\n",
    "myFBS.plot(ax)\n",
    "r = res[:,0]\n",
    "y = r * res[:,7]/res[:,6]\n",
    "l, = ax.loglog(r, y, label='y')\n",
    "ax.axhline(myFBS.get()['y_max'], linestyle='--', color=l.get_c())\n",
    "ax.axvline(myFBS.get()['R_ext'], linestyle='--', color=l.get_c())\n",
    "ax.set_xscale('log'); ax.set_yscale('log')\n",
    "ax.set_xlim(left=1e-3)\n",
    "ax.set_ylim(bottom=1e-8, top = 1e4)\n",
    "ax.legend(); ax.grid()"
   ]
  },
  {
   "cell_type": "markdown",
   "metadata": {},
   "source": [
    "### Compare to Fig 2. of https://arxiv.org/pdf/1606.03035.pdf"
   ]
  },
  {
   "cell_type": "code",
   "execution_count": null,
   "metadata": {},
   "outputs": [],
   "source": [
    "mu = 1.\n",
    "lam = 0.\n",
    "rho_c = np.array([0.])\n",
    "phi_c = np.geomspace(5e-4, 1e-1, 50)\n",
    "res = pyfbs.PyMRcurve.from_rhophi_curve(mu, lam, eosDD2, rho_c, phi_c, \"\")\n",
    "res = pyfbs.PyMRcurve.calc_TLN_curve(res)"
   ]
  },
  {
   "cell_type": "code",
   "execution_count": null,
   "metadata": {},
   "outputs": [],
   "source": [
    "M = np.array([r.get()['M_T'] for r in res])\n",
    "Lam = np.array([r.get()['lambda_tidal'] for r in res])"
   ]
  },
  {
   "cell_type": "code",
   "execution_count": null,
   "metadata": {},
   "outputs": [],
   "source": [
    "plt.plot(phi_c, Lam*M**5)\n",
    "plt.grid()\n",
    "plt.ylabel(\"$\\lambda_tidal$\"); plt.ylim(bottom=0, top=1200)\n",
    "plt.xlabel(\"$\\phi_c$\"); plt.xlim(left=0., right=0.05)"
   ]
  },
  {
   "cell_type": "code",
   "execution_count": null,
   "metadata": {},
   "outputs": [],
   "source": [
    "# look at a specific instance\n",
    "fig = plt.figure(figsize=(12,8)); ax = fig.gca()\n",
    "fbs = res[7]\n",
    "int_res = fbs.evaluate_model()\n",
    "\n",
    "fbs.plot(plt.gca())\n",
    "r = int_res[:,0]\n",
    "\n",
    "M_T = r /2. * (1. - 1./int_res[:,1]**2)\n",
    "l, = ax.loglog(r, M_T, label='M_T')\n",
    "ax.axhline(fbs.get()['M_T'], linestyle='--', color=l.get_c())\n",
    "\n",
    "y = r * int_res[:,7]/int_res[:,6]\n",
    "l, = ax.loglog(r,y, label='y')\n",
    "ax.axvline(fbs.get()['R_ext'], linestyle='--', color=l.get_c())\n",
    "ax.axhline(fbs.get()['y_max'], linestyle='--', color=l.get_c())\n",
    "\n",
    "ax.set_xscale('log'); ax.set_yscale('log')\n",
    "ax.set_xlim(left=1e-3)\n",
    "ax.set_ylim(bottom=1e-12)\n",
    "ax.legend(); ax.grid()\n",
    "fbs.get()"
   ]
  },
  {
   "cell_type": "markdown",
   "metadata": {},
   "source": [
    "### Compare to DD2 k2"
   ]
  },
  {
   "cell_type": "code",
   "execution_count": null,
   "metadata": {},
   "outputs": [],
   "source": [
    "rho_c = np.geomspace(1e-4, 1e-2, 88)\n",
    "phi_c = np.array([0.])\n",
    "res = pyfbs.PyMRcurve.from_rhophi_curve(mu, lam, eosDD2, rho_c, phi_c, \"\")\n",
    "res = pyfbs.PyMRcurve.calc_TLN_curve(res)"
   ]
  },
  {
   "cell_type": "code",
   "execution_count": null,
   "metadata": {},
   "outputs": [],
   "source": [
    "M = np.array([r.get()['M_T'] for r in res])\n",
    "R = np.array([r.get()['R_F'] for r in res])\n",
    "k2 = np.array([r.get()['k2'] for r in res])\n",
    "C = M/R / 1.477"
   ]
  },
  {
   "cell_type": "code",
   "execution_count": null,
   "metadata": {},
   "outputs": [],
   "source": [
    "plt.plot(C, k2)\n",
    "plt.grid()\n",
    "plt.xlabel(\"C\"); #plt.ylim(bottom=0, top=1200)\n",
    "plt.ylabel(\"$k_2$\"); #plt.xlim(left=0., right=0.05)"
   ]
  },
  {
   "cell_type": "code",
   "execution_count": null,
   "metadata": {},
   "outputs": [],
   "source": []
  }
 ],
 "metadata": {
  "kernelspec": {
   "display_name": "Python 3",
   "language": "python",
   "name": "python3"
  },
  "language_info": {
   "codemirror_mode": {
    "name": "ipython",
    "version": 3
   },
   "file_extension": ".py",
   "mimetype": "text/x-python",
   "name": "python",
   "nbconvert_exporter": "python",
   "pygments_lexer": "ipython3",
   "version": "3.8.10"
  }
 },
 "nbformat": 4,
 "nbformat_minor": 4
}
