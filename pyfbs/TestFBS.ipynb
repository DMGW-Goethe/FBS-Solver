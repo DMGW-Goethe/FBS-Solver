{
 "cells": [
  {
   "cell_type": "code",
   "execution_count": 6,
   "metadata": {},
   "outputs": [],
   "source": [
    "import numpy as np\n",
    "import matplotlib.pyplot as plt\n",
    "import pyfbs"
   ]
  },
  {
   "cell_type": "code",
   "execution_count": 44,
   "metadata": {},
   "outputs": [],
   "source": [
    "eosDD2 = pyfbs.PyEoStable(\"/media/data/Documents/PhD/B09/B09/EOS_tables/eos_HS_DD2_with_electrons.beta\")\n",
    "eosCausal = pyfbs.PyCausalEoS(1e-10)"
   ]
  },
  {
   "cell_type": "code",
   "execution_count": 45,
   "metadata": {},
   "outputs": [
    {
     "data": {
      "text/plain": [
       "{'M_T': 10.902909557175773,\n",
       " 'N_B': 1.6263402099651371e-09,\n",
       " 'N_F': 1.1825950287506743,\n",
       " 'R_B': 7.69500000009988,\n",
       " 'R_F': 39.79500000010066,\n",
       " 'R_F_0': 1e-10,\n",
       " 'rho_0': 0.0005,\n",
       " 'phi_0': 1e-05}"
      ]
     },
     "execution_count": 45,
     "metadata": {},
     "output_type": "execute_result"
    }
   ],
   "source": [
    "mu = 1.\n",
    "myFBS = pyfbs.PyFermionBosonStar.FromParameters(eosCausal, mu)\n",
    "myFBS.set_initial_conditions(0.0005, 1e-5)\n",
    "myFBS.bisection(1., 10., max_step=200)\n",
    "myFBS.evaluate_model()\n",
    "myFBS.get()"
   ]
  },
  {
   "cell_type": "code",
   "execution_count": 46,
   "metadata": {},
   "outputs": [
    {
     "data": {
      "image/png": "[encoded data removed]",
      "text/plain": [
       "<Figure size 432x288 with 1 Axes>"
      ]
     },
     "metadata": {
      "needs_background": "light"
     },
     "output_type": "display_data"
    }
   ],
   "source": [
    "ax = plt.gca()\n",
    "myFBS.plot(ax)\n",
    "ax.set_xscale('log'); ax.set_yscale('log')\n",
    "ax.set_xlim(left=1e-3)\n",
    "ax.legend(); ax.grid()"
   ]
  },
  {
   "cell_type": "code",
   "execution_count": 47,
   "metadata": {},
   "outputs": [],
   "source": [
    "rho_c = np.array([1e-5, 1e-4])\n",
    "phi_c = np.array([1e-6, 1e-5])\n",
    "lam = 0.\n",
    "res = pyfbs.PyMRcurve.from_rhophi_curve(mu, lam, eosCausal, rho_c, phi_c, \"MRcurve.test.txt\")\n"
   ]
  },
  {
   "cell_type": "code",
   "execution_count": 48,
   "metadata": {},
   "outputs": [
    {
     "name": "stdout",
     "output_type": "stream",
     "text": [
      "[<pyfbs.PyFermionBosonStar object at 0x7f5c6f388360>, <pyfbs.PyFermionBosonStar object at 0x7f5c6d0e2a40>, <pyfbs.PyFermionBosonStar object at 0x7f5c6d0e2ae0>, <pyfbs.PyFermionBosonStar object at 0x7f5c6c6dccc0>]\n"
     ]
    }
   ],
   "source": [
    "print(res)"
   ]
  },
  {
   "cell_type": "code",
   "execution_count": null,
   "metadata": {},
   "outputs": [],
   "source": []
  }
 ],
 "metadata": {
  "kernelspec": {
   "display_name": "Python 3",
   "language": "python",
   "name": "python3"
  },
  "language_info": {
   "codemirror_mode": {
    "name": "ipython",
    "version": 3
   },
   "file_extension": ".py",
   "mimetype": "text/x-python",
   "name": "python",
   "nbconvert_exporter": "python",
   "pygments_lexer": "ipython3",
   "version": "3.8.10"
  }
 },
 "nbformat": 4,
 "nbformat_minor": 4
}
