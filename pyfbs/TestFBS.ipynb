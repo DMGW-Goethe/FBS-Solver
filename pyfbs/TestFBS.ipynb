{
 "cells": [
  {
   "cell_type": "code",
   "execution_count": null,
   "metadata": {},
   "outputs": [],
   "source": [
    "import numpy as np\n",
    "import matplotlib.pyplot as plt\n",
    "import pyfbs"
   ]
  },
  {
   "cell_type": "markdown",
   "metadata": {},
   "source": [
    "### Define parameters"
   ]
  },
  {
   "cell_type": "code",
   "execution_count": null,
   "metadata": {},
   "outputs": [],
   "source": [
    "eosDD2 = pyfbs.PyEoStable(\"/media/data/Documents/PhD/B09/B09/EOS_tables/eos_HS_DD2_with_electrons.beta\")\n",
    "eosCausal = pyfbs.PyCausalEoS(1e-10)"
   ]
  },
  {
   "cell_type": "code",
   "execution_count": null,
   "metadata": {},
   "outputs": [],
   "source": [
    "mu = 1.\n",
    "lam = 0."
   ]
  },
  {
   "cell_type": "markdown",
   "metadata": {},
   "source": [
    "### Test single star integration"
   ]
  },
  {
   "cell_type": "code",
   "execution_count": null,
   "metadata": {},
   "outputs": [],
   "source": [
    "myFBS = pyfbs.PyFermionBosonStar.FromParameters(eosDD2, mu)\n",
    "myFBS.set_initial_conditions(0.0005, 1e-5)\n",
    "myFBS.bisection(1., 10., max_step=200)\n",
    "myFBS.evaluate_model()\n",
    "myFBS.get()"
   ]
  },
  {
   "cell_type": "code",
   "execution_count": null,
   "metadata": {},
   "outputs": [],
   "source": [
    "ax = plt.gca()\n",
    "myFBS.plot(ax)\n",
    "ax.set_xscale('log'); ax.set_yscale('log')\n",
    "ax.set_xlim(left=1e-3)\n",
    "ax.legend(); ax.grid()"
   ]
  },
  {
   "cell_type": "markdown",
   "metadata": {},
   "source": [
    "### Compare to Fig 2. of https://arxiv.org/pdf/1606.03035.pdf"
   ]
  },
  {
   "cell_type": "code",
   "execution_count": null,
   "metadata": {},
   "outputs": [],
   "source": [
    "mu = 1.\n",
    "lam = 0.\n",
    "rho_c = np.array([0.])\n",
    "phi_c = np.geomspace(5e-4, 1e-1, 50)\n",
    "lam = 0.\n",
    "res = pyfbs.PyMRcurve.from_rhophi_curve(mu, lam, eosDD2, rho_c, phi_c, \"\")\n",
    "res = pyfbs.PyMRcurve.calc_TLN_curve(res)"
   ]
  },
  {
   "cell_type": "code",
   "execution_count": null,
   "metadata": {},
   "outputs": [],
   "source": [
    "M = np.array([r.get()['M_T'] for r in res])\n",
    "Lam = np.array([r.get()['lambda_tidal'] for r in res])"
   ]
  },
  {
   "cell_type": "code",
   "execution_count": null,
   "metadata": {},
   "outputs": [],
   "source": [
    "plt.plot(phi_c, Lam*M**5)\n",
    "plt.grid()\n",
    "plt.ylabel(\"$\\lambda M^5$\"); plt.ylim(bottom=0, top=1200)\n",
    "plt.xlabel(\"$\\phi_c$\"); plt.xlim(left=0., right=0.05)"
   ]
  },
  {
   "cell_type": "markdown",
   "metadata": {},
   "source": [
    "### Compare to DD2 k2"
   ]
  },
  {
   "cell_type": "code",
   "execution_count": null,
   "metadata": {},
   "outputs": [],
   "source": [
    "rho_c = np.geomspace(1e-4, 1e-2, 100)\n",
    "phi_c = np.array([0.])\n",
    "\n",
    "res = pyfbs.PyMRcurve.from_rhophi_curve(mu, lam, eosDD2, rho_c, phi_c, \"\")\n",
    "res = pyfbs.PyMRcurve.calc_TLN_curve(res)"
   ]
  },
  {
   "cell_type": "code",
   "execution_count": null,
   "metadata": {},
   "outputs": [],
   "source": [
    "M = np.array([r.get()['M_T'] for r in res])\n",
    "R = np.array([r.get()['R_F_0'] for r in res])\n",
    "k2 = np.array([r.get()['k2'] for r in res])\n",
    "C = M/R / 1.477"
   ]
  },
  {
   "cell_type": "code",
   "execution_count": null,
   "metadata": {},
   "outputs": [],
   "source": [
    "plt.plot(C, k2)\n",
    "plt.grid()\n",
    "plt.xlabel(\"C\"); #plt.ylim(bottom=0, top=1200)\n",
    "plt.ylabel(\"$k_2$\"); #plt.xlim(left=0., right=0.05)"
   ]
  },
  {
   "cell_type": "code",
   "execution_count": null,
   "metadata": {},
   "outputs": [],
   "source": []
  }
 ],
 "metadata": {
  "kernelspec": {
   "display_name": "Python 3",
   "language": "python",
   "name": "python3"
  },
  "language_info": {
   "codemirror_mode": {
    "name": "ipython",
    "version": 3
   },
   "file_extension": ".py",
   "mimetype": "text/x-python",
   "name": "python",
   "nbconvert_exporter": "python",
   "pygments_lexer": "ipython3",
   "version": "3.8.10"
  }
 },
 "nbformat": 4,
 "nbformat_minor": 4
}
