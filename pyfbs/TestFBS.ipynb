{
 "cells": [
  {
   "cell_type": "code",
   "execution_count": null,
   "metadata": {},
   "outputs": [],
   "source": [
    "import numpy as np\n",
    "import matplotlib.pyplot as plt\n",
    "import pyfbs_cython as pyfbs"
   ]
  },
  {
   "cell_type": "markdown",
   "metadata": {},
   "source": [
    "### Define parameters"
   ]
  },
  {
   "cell_type": "code",
   "execution_count": null,
   "metadata": {},
   "outputs": [],
   "source": [
    "eosDD2 = pyfbs.PyEoStable(\"../EOS_tables/eos_HS_DD2_with_electrons.beta\")\n",
    "#eosCausal = pyfbs.PyCausalEoS(1e-10)"
   ]
  },
  {
   "cell_type": "markdown",
   "metadata": {},
   "source": [
    "### Test single star integration"
   ]
  },
  {
   "cell_type": "code",
   "execution_count": null,
   "metadata": {},
   "outputs": [],
   "source": [
    "mu = 1.0\n",
    "lam = 0.\n",
    "rho_c =  0.002\n",
    "phi_c = 0.002"
   ]
  },
  {
   "cell_type": "code",
   "execution_count": null,
   "metadata": {},
   "outputs": [],
   "source": [
    "myFBS = pyfbs.PyFermionBosonStar.FromParameters(eosDD2, mu, lambda_=lam, rho_0=rho_c, phi_0=phi_c)\n",
    "myFBS.bisection(1., 10)\n",
    "myFBS.get()\n",
    "res = myFBS.evaluate_model()\n",
    "myFBS.get()"
   ]
  },
  {
   "cell_type": "code",
   "execution_count": null,
   "metadata": {},
   "outputs": [],
   "source": [
    "fig = plt.figure(figsize=(12,8)); ax = fig.gca()\n",
    "myFBS.plot(ax)\n",
    "r = res[:,0]\n",
    "M_T = r /2. * (1. - 1./res[:,1]**2)\n",
    "l, = ax.loglog(r, M_T, label='M_T')\n",
    "ax.axhline(myFBS.get()['M_T'], linestyle='--', color=l.get_c())\n",
    "ax.axvline(myFBS.get()['R_F'], linestyle='--')\n",
    "ax.axvline(myFBS.get()['R_B'], linestyle='--')\n",
    "ax.axvline(myFBS.get()['R_G'], linestyle='--')\n",
    "ax.set_xscale('log'); ax.set_yscale('log')\n",
    "ax.set_xlim(left=1e-3)\n",
    "ax.set_ylim(bottom=1e-16, top=1e5)\n",
    "ax.legend(); ax.grid()\n",
    "print(r[-1])"
   ]
  },
  {
   "cell_type": "code",
   "execution_count": null,
   "metadata": {},
   "outputs": [],
   "source": [
    "myFBS = pyfbs.PyFermionBosonStarTLN.FromFBS(myFBS)\n",
    "myFBS.bisection_phi_1(1e-3 * phi_c, 1e5 * phi_c)\n",
    "res = myFBS.evaluate_model()\n",
    "myFBS.get()"
   ]
  },
  {
   "cell_type": "code",
   "execution_count": null,
   "metadata": {},
   "outputs": [],
   "source": [
    "fig = plt.figure(figsize=(12,8)); ax = fig.gca()\n",
    "myFBS.plot(ax)\n",
    "r = res[:,0]\n",
    "y = r * res[:,7]/res[:,6]\n",
    "l, = ax.loglog(r, y, label='y')\n",
    "ax.axhline(myFBS.get()['y_max'], linestyle='--', color=l.get_c())\n",
    "ax.axvline(myFBS.get()['R_ext'], linestyle='--', color=l.get_c())\n",
    "ax.set_xscale('log'); ax.set_yscale('log')\n",
    "ax.set_xlim(left=1e-3)\n",
    "ax.set_ylim(bottom=1e-8, top = 1e4)\n",
    "ax.legend(); ax.grid()"
   ]
  },
  {
   "cell_type": "code",
   "execution_count": null,
   "metadata": {},
   "outputs": [],
   "source": [
    "fig, axes = plt.subplots(3,1,figsize=(8,6), sharex='all')\n",
    "r = res[:,0]\n",
    "y = r * res[:,7]/res[:,6]\n",
    "phi = res[:,3]\n",
    "P = res[:,5]\n",
    "M_T = r/2. * (1. - 1./res[:,1]**2)\n",
    "C = M_T/r\n",
    "lambda_tidal = 16./15. * ((1.-2.*C)**2* (2. + 2.*C*(y-1.) - y)\n",
    "                                                / (2.*C*(6. - 3.*y + 3.*C*(5.*y-8.))\n",
    "                                                    + 4.*C**3*(13. - 11.*y + C*(3.*y-2.) + 2.*C*C*(1. + y))\n",
    "                                                    + 3.* (1. - 2.*C)**2 *(2. - y + 2.*C*(y-1.))*np.log(1.-2.*C)))\n",
    "#lambda_tidal1 = lambda_tidal*M_T**5\n",
    "lambda_tidal1 = lambda_tidal*myFBS.get()['M_T']**5\n",
    "\n",
    "axes[0].plot(r, phi, label=\"$\\phi$\")\n",
    "axes[0].plot(r, P, label=\"$P$\")\n",
    "axes[0].set_yscale('log')\n",
    "axes[0].set_xscale('log')\n",
    "axes[0].set_xlim(left=1e-1, right=1e4)\n",
    "axes[0].set_ylim(1e-8, 1)\n",
    "axes[0].legend(fontsize=12); axes[0].grid()\n",
    "axes[0].set_ylabel(\"components\", fontsize=14)\n",
    "\n",
    "l, = axes[1].plot(r, y, label='y')\n",
    "axes[1].set_ylim(0,3)\n",
    "axes[1].grid(); axes[1].set_ylabel(\"$y$\", fontsize=16)\n",
    "#plt.axhline(myFBS.get()['y_max'], linestyle='--', color=l.get_c())\n",
    "axes[1].axvline(myFBS.get()['R_ext'], linestyle='--', color=l.get_c())\n",
    "\n",
    "\n",
    "axes[2].plot(r, lambda_tidal1)\n",
    "#axes[2].plot(r, lambda_tidal1, linestyle='--')\n",
    "axes[2].axvline(myFBS.get()['R_ext'], linestyle='--', color=l.get_c())\n",
    "axes[2].set_yscale('log')\n",
    "#axes[2].set_ylim(1e2, 1e3)\n",
    "axes[2].grid(); \n",
    "axes[2].set_ylabel(\"$\\lambda_{tidal}$\", fontsize=16)\n",
    "axes[2].set_xlabel(\"r\", fontsize=18)\n",
    "axes[2].set_ylim(1e1, 1e3)\n",
    "axes[2].set_xlim(1e0, 1e2)\n",
    "\n",
    "fig.subplots_adjust(hspace=0.1)\n",
    "#plt.savefig(\"y_extraction.pdf\")"
   ]
  },
  {
   "cell_type": "code",
   "execution_count": null,
   "metadata": {},
   "outputs": [],
   "source": [
    "dr = r[1:]-r[:-1] \n",
    "print(np.shape(dr), dr, np.max(dr), np.min(dr))"
   ]
  },
  {
   "cell_type": "markdown",
   "metadata": {},
   "source": [
    "### Compare to Fig 2. of https://arxiv.org/pdf/1606.03035.pdf"
   ]
  },
  {
   "cell_type": "code",
   "execution_count": null,
   "metadata": {},
   "outputs": [],
   "source": [
    "mu = 1.\n",
    "lam = 0.\n",
    "rho_c = np.array([0.])\n",
    "phi_c = np.geomspace(3e-4, 1e-1, 50)\n",
    "pMR = pyfbs.PyMRcurve.from_rhophi_list(mu, lam, eosDD2, rho_c, phi_c, \"\")\n",
    "tln_curve = pyfbs.PyMRcurve.calc_TLN_curve(pMR)"
   ]
  },
  {
   "cell_type": "code",
   "execution_count": null,
   "metadata": {},
   "outputs": [],
   "source": [
    "M = np.array(  [fbs.get()['M_T'] for fbs in tln_curve])\n",
    "Lam = np.array([fbs.get()['lambda_tidal'] for fbs in tln_curve])"
   ]
  },
  {
   "cell_type": "code",
   "execution_count": null,
   "metadata": {},
   "outputs": [],
   "source": [
    "plt.plot(phi_c, Lam*M**5)\n",
    "plt.grid()\n",
    "plt.ylabel(\"$\\lambda_{tidal}$\"); plt.ylim(bottom=0, top=1200)\n",
    "plt.xlabel(\"$\\phi_c$\"); plt.xlim(left=0., right=0.05)"
   ]
  },
  {
   "cell_type": "code",
   "execution_count": null,
   "metadata": {},
   "outputs": [],
   "source": [
    "# look at a specific instance\n",
    "fig = plt.figure(figsize=(12,8)); ax = fig.gca()\n",
    "fbs = tln_curve[0]\n",
    "res = fbs.evaluate_model()\n",
    "\n",
    "fbs.plot(plt.gca())\n",
    "r = res[:,0]\n",
    "\n",
    "M_T = r /2. * (1. - 1./res[:,1]**2)\n",
    "C = M_T/r\n",
    "lambda_tidal = 16./15. * ((1.-2.*C)**2* (2. + 2.*C*(y-1.) - y)\n",
    "                                               / (2.*C*(6. - 3.*y + 3.*C*(5.*y-8.))\n",
    "                                                    + 4.*C**3*(13. - 11.*y + C*(3.*y-2.) + 2.*C*C*(1. + y))\n",
    "                                                    + 3.* (1. - 2.*C)**2 *(2. - y + 2.*C*(y-1.))*np.log(1.-2.*C)))\n",
    "\n",
    "lambda_tidal = lambda_tidal*M_T**5\n",
    "\n",
    "l, = ax.loglog(r, M_T, label='M_T')\n",
    "ax.axhline(fbs.get()['M_T'], linestyle='--', color=l.get_c())\n",
    "\n",
    "l, = ax.loglog(r, lambda_tidal, label='lambda_tidal')\n",
    "ax.axhline(fbs.get()['lambda_tidal'], linestyle='--', color=l.get_c())\n",
    "\n",
    "y = r * res[:,7]/res[:,6]\n",
    "l, = ax.loglog(r,y, label='y')\n",
    "ax.axvline(fbs.get()['R_ext'], linestyle='--', color=l.get_c())\n",
    "ax.axhline(fbs.get()['y_max'], linestyle='--', color=l.get_c())\n",
    "\n",
    "ax.set_xscale('log'); ax.set_yscale('log')\n",
    "ax.set_xlim(left=1e-3)\n",
    "ax.set_ylim(bottom=1e-12)\n",
    "ax.legend(); ax.grid()\n",
    "fbs.get()"
   ]
  },
  {
   "cell_type": "markdown",
   "metadata": {},
   "source": [
    "### Compare to DD2 k2"
   ]
  },
  {
   "cell_type": "code",
   "execution_count": null,
   "metadata": {},
   "outputs": [],
   "source": [
    "rho_c = np.geomspace(1e-4, 1e-2, 88)\n",
    "phi_c = np.array([0.])\n",
    "pMR = pyfbs.PyMRcurve.from_rhophi_list(mu, lam, eosDD2, rho_c, phi_c, \"\")\n",
    "tln_curve = pyfbs.PyMRcurve.calc_TLN_curve(pMR)"
   ]
  },
  {
   "cell_type": "code",
   "execution_count": null,
   "metadata": {},
   "outputs": [],
   "source": [
    "M = np.array([fbs.get()['M_T'] for fbs in tln_curve])\n",
    "R = np.array([fbs.get()['R_F'] for fbs in tln_curve])\n",
    "k2 = np.array([fbs.get()['k2'] for fbs in tln_curve])\n",
    "C = M/R / 1.477"
   ]
  },
  {
   "cell_type": "code",
   "execution_count": null,
   "metadata": {},
   "outputs": [],
   "source": [
    "plt.plot(C, k2)\n",
    "plt.grid()\n",
    "plt.xlabel(\"C\"); #plt.ylim(bottom=0, top=1200)\n",
    "plt.ylabel(\"$k_2$\"); #plt.xlim(left=0., right=0.05)"
   ]
  },
  {
   "cell_type": "code",
   "execution_count": null,
   "metadata": {},
   "outputs": [],
   "source": []
  }
 ],
 "metadata": {
  "kernelspec": {
   "display_name": "Python 3",
   "language": "python",
   "name": "python3"
  },
  "language_info": {
   "codemirror_mode": {
    "name": "ipython",
    "version": 3
   },
   "file_extension": ".py",
   "mimetype": "text/x-python",
   "name": "python",
   "nbconvert_exporter": "python",
   "pygments_lexer": "ipython3",
   "version": "3.10.4"
  }
 },
 "nbformat": 4,
 "nbformat_minor": 4
}
